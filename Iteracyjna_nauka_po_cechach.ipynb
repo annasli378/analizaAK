{
  "cells": [
    {
      "cell_type": "markdown",
      "metadata": {
        "id": "view-in-github",
        "colab_type": "text"
      },
      "source": [
        "<a href=\"https://colab.research.google.com/github/annasli378/analizaAK/blob/main/Iteracyjna_nauka_po_cechach.ipynb\" target=\"_parent\"><img src=\"https://colab.research.google.com/assets/colab-badge.svg\" alt=\"Open In Colab\"/></a>"
      ]
    },
    {
      "cell_type": "code",
      "execution_count": 1,
      "metadata": {
        "id": "gH0ZvmlMOb7N"
      },
      "outputs": [],
      "source": [
        "# -*- coding: utf-8 -*-\n",
        "\"\"\"\n",
        "Created on Tue Nov 21 11:54:34 2023\n",
        "\n",
        "@author: Ania\n",
        "\"\"\"\n",
        "import matplotlib.pyplot as plt\n",
        "import numpy as np\n",
        "import pandas as pd\n",
        "import sklearn\n",
        "from sklearn.datasets import make_classification\n",
        "import seaborn as sns\n",
        "from sklearn import metrics\n",
        "from sklearn import svm\n",
        "import joblib\n",
        "\n",
        "from sklearn.metrics import confusion_matrix, classification_report\n",
        "from sklearn.model_selection import KFold\n",
        "from sklearn.ensemble import RandomForestClassifier\n",
        "from sklearn.neighbors import KNeighborsClassifier\n",
        "from sklearn.ensemble import HistGradientBoostingClassifier\n",
        "from sklearn.preprocessing import MinMaxScaler\n"
      ]
    },
    {
      "cell_type": "code",
      "execution_count": 2,
      "metadata": {
        "id": "Wo_qilrJO3RT"
      },
      "outputs": [],
      "source": [
        "def print_confusion_matrix(y_true, y_pred, labels_names, report=False):\n",
        "    cmx_data = confusion_matrix(y_true, y_pred, labels=labels_names)\n",
        "\n",
        "    df_cmx = pd.DataFrame(cmx_data)\n",
        "\n",
        "    fig, ax = plt.subplots(figsize=(3, 2))\n",
        "    sns.heatmap(df_cmx, annot=True, fmt='g', square=False)\n",
        "    #ax.set_ylim(len(set(y_true)), 0)\n",
        "    plt.show()\n",
        "\n",
        "    if report:\n",
        "        print('Classification Report')\n",
        "        print(classification_report(y_true, y_pred))\n",
        "\n",
        "\n",
        "def hgbt_train(X, Y):\n",
        "    # KFOLD\n",
        "    kfold = KFold(n_splits=5, shuffle=True, random_state=0)\n",
        "    j = 1\n",
        "\n",
        "    all_preds = np.zeros(Y.shape)\n",
        "    all_tru = np.zeros(Y.shape)\n",
        "    cnt=0\n",
        "    for train, test in kfold.split(X, Y):\n",
        "        X_fold = X[train, :]\n",
        "        Y_fold = Y[train]\n",
        "\n",
        "        #model = HistGradientBoostingClassifier(max_iter=maxiter, learning_rate=lr, max_depth=max_d, l2_regularization=l2_r, class_weight='balanced').fit(X_fold, Y_fold.ravel())\n",
        "        model = HistGradientBoostingClassifier().fit(X_fold, Y_fold.ravel())\n",
        "\n",
        "        X_test = X[test, :]\n",
        "        Y_test1 = Y[test]\n",
        "        preds_test = model.predict(X_test)\n",
        "\n",
        "        for c in range(0, len(preds_test)):\n",
        "            all_preds[cnt] = preds_test[c]\n",
        "            all_tru[cnt] = Y_test1[c]\n",
        "            cnt=cnt+1\n",
        "\n",
        "\n",
        "        # if acc>0.6:\n",
        "        #     print_confusion_matrix(Y_test1, preds_test, labels_names=[0,1,2])\n",
        "        #     # save model\n",
        "       # path_to_model = path_to_models + 'HGBT_ ' + str(i)+'_' +str(maxiter) +  '_lr_' + str(lr) + '_l2_'  + str(l2_r) +  '_k' + str(j) + '.joblib'\n",
        "        #joblib.dump(model, path_to_model)\n",
        "\n",
        "        j = j + 1\n",
        "\n",
        "    acc = metrics.balanced_accuracy_score(all_tru, all_preds)\n",
        "    if acc > 0.8:\n",
        "      print(acc)\n",
        "      print_confusion_matrix(all_tru, all_preds, labels_names=[0,1,2])\n",
        "\n",
        "    return acc\n",
        "\n",
        "\n",
        "def svn_train(X, Y, gamma, C, kernel='rbf'):\n",
        "    # KFOLD\n",
        "    kfold = KFold(n_splits=5, shuffle=True, random_state=0)\n",
        "    j = 1\n",
        "\n",
        "    all_preds = np.zeros(Y.shape)\n",
        "    all_tru = np.zeros(Y.shape)\n",
        "    cnt=0\n",
        "    for train, test in kfold.split(X, Y):\n",
        "        X_fold = X[train, :]\n",
        "        Y_fold = Y[train]\n",
        "\n",
        "        model = svm.SVC(kernel=kernel, gamma=gamma, C=C).fit(X_fold, Y_fold.ravel())\n",
        "\n",
        "        X_test = X[test, :]\n",
        "        Y_test1 = Y[test]\n",
        "        preds_test = model.predict(X_test)\n",
        "\n",
        "        for c in range(0, len(preds_test)):\n",
        "            all_preds[cnt] = preds_test[c]\n",
        "            all_tru[cnt] = Y_test1[c]\n",
        "            cnt=cnt+1\n",
        "\n",
        "\n",
        "        # if acc>0.6:\n",
        "        #     print_confusion_matrix(Y_test1, preds_test, labels_names=[0,1,2])\n",
        "        #     # save model\n",
        "      #  path_to_model = path_to_models + 'SVN_ ' + str(i)+'_' +kernel+  '_gamma_' + str(gamma) + '_C_'  + str(C) +  '_k' + str(j) + '.joblib'\n",
        "      #  joblib.dump(model, path_to_model)\n",
        "\n",
        "        j = j + 1\n",
        "\n",
        "\n",
        "    acc = metrics.balanced_accuracy_score(all_tru, all_preds)\n",
        "    if acc > 0.5:\n",
        "      print(acc)\n",
        "      print_confusion_matrix(all_tru, all_preds, labels_names=[0,1,2])\n",
        "\n",
        "    return acc\n",
        "\n",
        "\n",
        "def rf_train(X, Y,crit):\n",
        "    # KFOLD\n",
        "    kfold = KFold(n_splits=5, shuffle=True, random_state=0)\n",
        "    j = 1\n",
        "\n",
        "    all_preds = np.zeros(Y.shape)\n",
        "    all_tru = np.zeros(Y.shape)\n",
        "    cnt=0\n",
        "    for train, test in kfold.split(X, Y):\n",
        "        X_fold = X[train, :]\n",
        "        Y_fold = Y[train]\n",
        "\n",
        "        model = RandomForestClassifier( criterion = crit).fit(X_fold, Y_fold.ravel())\n",
        "\n",
        "        X_test = X[test, :]\n",
        "        Y_test1 = Y[test]\n",
        "        preds_test = model.predict(X_test)\n",
        "\n",
        "        for c in range(0, len(preds_test)):\n",
        "            all_preds[cnt] = preds_test[c]\n",
        "            all_tru[cnt] = Y_test1[c]\n",
        "            cnt=cnt+1\n",
        "\n",
        "       # path_to_model = path_to_models + 'RF_' + str(i)+'_' +  crit+ mf +clw +  '_k' + str(j) +  '.joblib'\n",
        "       # joblib.dump(model, path_to_model)\n",
        "\n",
        "        j = j + 1\n",
        "\n",
        "\n",
        "    acc = metrics.balanced_accuracy_score(all_tru, all_preds)\n",
        "    if acc > 0.8:\n",
        "      print(acc)\n",
        "      print_confusion_matrix(all_tru, all_preds, labels_names=[0,1,2])\n",
        "\n",
        "    return acc\n",
        "\n",
        "\n",
        "\n",
        "\n",
        "def knn_train(X, Y, n, algo = 'auto'):\n",
        "    # KFOLD\n",
        "    kfold = KFold(n_splits=5, shuffle=True, random_state=0)\n",
        "    j = 1\n",
        "\n",
        "    all_preds = np.zeros(Y.shape)\n",
        "    all_tru = np.zeros(Y.shape)\n",
        "    cnt=0\n",
        "    for train, test in kfold.split(X, Y):\n",
        "        X_fold = X[train, :]\n",
        "        Y_fold = Y[train]\n",
        "\n",
        "        model = KNeighborsClassifier(n_neighbors=n, algorithm = algo).fit(X_fold, Y_fold.ravel())\n",
        "        X_test = X[test, :]\n",
        "        Y_test1 = Y[test]\n",
        "        preds_test = model.predict(X_test)\n",
        "\n",
        "        for c in range(0, len(preds_test)):\n",
        "            all_preds[cnt] = preds_test[c]\n",
        "            all_tru[cnt] = Y_test1[c]\n",
        "            cnt=cnt+1\n",
        "\n",
        "      #  path_to_model = path_to_models + 'knn_' + str(i)+'_n_' +str(n) + '_k' + str(j) +  '.joblib'\n",
        "       # joblib.dump(model, path_to_model)\n",
        "\n",
        "        j = j + 1\n",
        "\n",
        "\n",
        "    acc = metrics.balanced_accuracy_score(all_tru, all_preds)\n",
        "    if acc > 0.8:\n",
        "      print(acc)\n",
        "      print_confusion_matrix(all_tru, all_preds, labels_names=[0,1,2])\n",
        "\n",
        "    return acc"
      ]
    },
    {
      "cell_type": "code",
      "execution_count": 3,
      "metadata": {
        "id": "RtO59DhcCI_b"
      },
      "outputs": [],
      "source": [
        "def iterative_training(rescaledX, k):\n",
        "  acc_hgbt=[]\n",
        "  acc_knn1=[]\n",
        "  acc_knn2=[]\n",
        "  acc_knn3=[]\n",
        "  acc_svn1=[]\n",
        "  acc_svn2=[]\n",
        "  acc_svn3=[]\n",
        "  acc_rf1=[]\n",
        "  acc_rf2=[]\n",
        "  acc_rf3=[]\n",
        "\n",
        "  for i in range(1,k):\n",
        "   # print(f'{i}/{k}')\n",
        "    X_new = rescaledX[:, 0:i]\n",
        "    acc_hgbt.append(hgbt_train(X_new, Y_train))\n",
        "\n",
        "    acc_knn1.append(knn_train(rescaledX, Y_train, 2))\n",
        "    acc_knn2.append(knn_train(rescaledX, Y_train, 3))\n",
        "    acc_knn3.append(knn_train(rescaledX, Y_train, 5))\n",
        "\n",
        "    acc_svn1.append(svn_train(rescaledX, Y_train, gamma=0.1, C=1))\n",
        "    acc_svn2.append(svn_train(rescaledX, Y_train, gamma=0.8, C=10))\n",
        "    acc_svn3.append(svn_train(rescaledX, Y_train, gamma=1, C=100))\n",
        "\n",
        "    acc_rf1.append(rf_train(rescaledX, Y_train, crit='gini'))\n",
        "    acc_rf2.append(rf_train(rescaledX, Y_train, crit='entropy'))\n",
        "    acc_rf3.append(rf_train(rescaledX, Y_train, crit='log_loss'))\n",
        "\n",
        "  print('HBGT')\n",
        "  print(f'acc max: {max(acc_hgbt)}, number of features: {acc_hgbt.index(max(acc_hgbt))+1} ')\n",
        "  print('KNN')\n",
        "  print(f'acc max: {max(acc_knn1)}, number of features: {acc_knn1.index(max(acc_knn1))+1} ')\n",
        "  print(f'acc max: {max(acc_knn2)}, number of features: {acc_knn2.index(max(acc_knn2))+1} ')\n",
        "  print(f'acc max: {max(acc_knn3)}, number of features: {acc_knn3.index(max(acc_knn3))+1} ')\n",
        "  print('SVN')\n",
        "  print(f'acc max: {max(acc_svn1)}, number of features: {acc_svn1.index(max(acc_svn1))+1} ')\n",
        "  print(f'acc max: {max(acc_svn2)}, number of features: {acc_svn2.index(max(acc_svn2))+1} ')\n",
        "  print(f'acc max: {max(acc_svn3)}, number of features: {acc_svn3.index(max(acc_svn3))+1} ')\n",
        "  print('RF')\n",
        "  print(f'acc max: {max(acc_rf1)}, number of features: {acc_rf1.index(max(acc_rf1))+1} ')\n",
        "  print(f'acc max: {max(acc_rf2)}, number of features: {acc_rf2.index(max(acc_rf2))+1} ')\n",
        "  print(f'acc max: {max(acc_rf3)}, number of features: {acc_rf3.index(max(acc_rf3))+1} ')\n",
        "\n"
      ]
    },
    {
      "cell_type": "code",
      "execution_count": 4,
      "metadata": {
        "id": "E_j9LPzdcgw8"
      },
      "outputs": [],
      "source": [
        "def get_X(path_to_data):\n",
        "  X_train = pd.read_csv(path_to_data, header=None)\n",
        "  X_train = X_train.values\n",
        "  #scaler = MinMaxScaler(feature_range=(0, 1))\n",
        "  #rescaledX = scaler.fit_transform(X_train)\n",
        "  [w, k] = X_train.shape\n",
        "  return X_train, k"
      ]
    },
    {
      "cell_type": "code",
      "execution_count": 5,
      "metadata": {
        "colab": {
          "base_uri": "https://localhost:8080/"
        },
        "id": "uoffNoOQof8p",
        "outputId": "4cdf24c1-ebbc-4de1-a49e-992e122dd06d"
      },
      "outputs": [
        {
          "output_type": "stream",
          "name": "stdout",
          "text": [
            "Mounted at /content/drive\n"
          ]
        }
      ],
      "source": [
        "from google.colab import drive\n",
        "drive.mount('/content/drive')"
      ]
    },
    {
      "cell_type": "code",
      "execution_count": 6,
      "metadata": {
        "id": "FOP7QAulO7OL"
      },
      "outputs": [],
      "source": [
        "path_to_data = \"/content/drive/MyDrive/USG/cechy_nowe/Dane_anova_maskiCFPNET_RMRM.csv\"\n",
        "path_to_Y = \"/content/drive/MyDrive/USG/cechy_nowe/Y_alfabetycznie.csv\"\n",
        "path_to_models = \"/content/drive/MyDrive/USG/pliki_cechy/\""
      ]
    },
    {
      "cell_type": "code",
      "execution_count": 7,
      "metadata": {
        "id": "-5K0XK8kQ2Vf"
      },
      "outputs": [],
      "source": [
        "# pierwszy testowany plik:\n",
        "#X_train = pd.read_csv(path_to_data, header=None)\n",
        "Y_train = pd.read_csv(path_to_Y, header=None)\n",
        "#%%\n",
        "#X_train = X_train.values\n",
        "\n",
        "# połączenie ak2 i ak3 w jedną klasę:\n",
        "#Y_train[Y_train==2]=1\n",
        "#Y_train[Y_train==3]=2\n",
        "Y_train = Y_train.values -1\n",
        "\n",
        "\n",
        "\n",
        "#nomalizacja\n",
        "#scaler = MinMaxScaler(feature_range=(0, 1))\n",
        "#rescaledX = scaler.fit_transform(X_train)\n",
        "#[w, k] = rescaledX.shape"
      ]
    },
    {
      "cell_type": "code",
      "execution_count": 8,
      "metadata": {
        "id": "24IfLfVJc6xa"
      },
      "outputs": [],
      "source": [
        "rescaledX, k = get_X(path_to_data)"
      ]
    },
    {
      "cell_type": "markdown",
      "metadata": {
        "id": "jX2kScD4HPAd"
      },
      "source": [
        "Poszukiwania dobrego i - ile cech się nada w klasyfikacji"
      ]
    },
    {
      "cell_type": "code",
      "execution_count": null,
      "metadata": {
        "id": "5RmwiIQzEje6"
      },
      "outputs": [],
      "source": [
        "iterative_training(rescaledX, k)"
      ]
    },
    {
      "cell_type": "code",
      "execution_count": null,
      "metadata": {
        "id": "21vM_SY8FWyk"
      },
      "outputs": [],
      "source": [
        "path_to_data = \"/content/drive/MyDrive/USG/cechy_nowe/Dane_anova_maskiCFPNET_CHI2.csv\"\n",
        "rescaledX, k = get_X(path_to_data)\n",
        "iterative_training(rescaledX, k)"
      ]
    },
    {
      "cell_type": "code",
      "execution_count": null,
      "metadata": {
        "id": "FVkqSzhhFo_K"
      },
      "outputs": [],
      "source": [
        "path_to_data = \"/content/drive/MyDrive/USG/cechy_nowe/Dane_anova_maskiCFPNET_RelefF.csv\"\n",
        "rescaledX, k = get_X(path_to_data)\n",
        "iterative_training(rescaledX, k)"
      ]
    },
    {
      "cell_type": "markdown",
      "metadata": {
        "id": "qkdn9ZA4Lyqk"
      },
      "source": [
        "# Stare\n"
      ]
    },
    {
      "cell_type": "code",
      "execution_count": null,
      "metadata": {
        "colab": {
          "base_uri": "https://localhost:8080/"
        },
        "id": "LthMEBnuLxjF",
        "outputId": "15088e6e-f81b-4da4-e419-4aeb0bd68280"
      },
      "outputs": [
        {
          "name": "stdout",
          "output_type": "stream",
          "text": [
            "HBGT\n",
            "acc max: 0.3881213450292398, number of features: 1 \n",
            "KNN\n",
            "acc max: 0.2940058479532164, number of features: 1 \n",
            "acc max: 0.31505847953216376, number of features: 1 \n",
            "acc max: 0.32244152046783625, number of features: 1 \n",
            "SVN\n",
            "acc max: 0.3333333333333333, number of features: 1 \n",
            "acc max: 0.34027777777777773, number of features: 1 \n",
            "acc max: 0.3435672514619883, number of features: 1 \n",
            "RF\n",
            "acc max: 0.37777777777777777, number of features: 1 \n",
            "acc max: 0.370906432748538, number of features: 6 \n",
            "acc max: 0.35328947368421054, number of features: 1 \n"
          ]
        }
      ],
      "source": [
        "path_to_data = \"/content/drive/MyDrive/USG/cechy_duzo/morfo_sleb_CHI2.csv\"\n",
        "rescaledX, k = get_X(path_to_data)\n",
        "iterative_training(rescaledX, k)"
      ]
    },
    {
      "cell_type": "code",
      "execution_count": null,
      "metadata": {
        "id": "fXrMmQP4L9Q4"
      },
      "outputs": [],
      "source": [
        "path_to_data = \"/content/drive/MyDrive/USG/cechy_duzo/morfo_sleb_RMRM.csv\"\n",
        "rescaledX, k = get_X(path_to_data)\n",
        "iterative_training(rescaledX, k)"
      ]
    },
    {
      "cell_type": "code",
      "execution_count": null,
      "metadata": {
        "colab": {
          "base_uri": "https://localhost:8080/"
        },
        "id": "TylcIDxbL9iq",
        "outputId": "64ee5300-09b7-4b38-b2c2-5ee41b1ecb5e"
      },
      "outputs": [
        {
          "name": "stdout",
          "output_type": "stream",
          "text": [
            "HBGT\n",
            "acc max: 0.5407894736842105, number of features: 3 \n",
            "KNN\n",
            "acc max: 0.4463815789473684, number of features: 1 \n",
            "acc max: 0.5164473684210527, number of features: 1 \n",
            "acc max: 0.4976973684210526, number of features: 1 \n",
            "SVN\n",
            "acc max: 0.5046052631578948, number of features: 1 \n",
            "acc max: 0.4898026315789473, number of features: 1 \n",
            "acc max: 0.4776315789473684, number of features: 1 \n",
            "RF\n",
            "acc max: 0.5177631578947368, number of features: 5 \n",
            "acc max: 0.5009868421052631, number of features: 4 \n",
            "acc max: 0.49473684210526314, number of features: 2 \n"
          ]
        }
      ],
      "source": [
        "path_to_data = \"/content/drive/MyDrive/USG/cechy_duzo/morfo_sleb_RelefF.csv\"\n",
        "rescaledX, k = get_X(path_to_data)\n",
        "iterative_training(rescaledX, k)"
      ]
    },
    {
      "cell_type": "markdown",
      "metadata": {
        "id": "yUGj2VzwMKwo"
      },
      "source": [
        "tekstura epi\n",
        "\n"
      ]
    },
    {
      "cell_type": "code",
      "execution_count": null,
      "metadata": {
        "colab": {
          "base_uri": "https://localhost:8080/"
        },
        "id": "lLcmOhGIMYtQ",
        "outputId": "4d781e86-7bc0-4c14-c6b7-3939380a78ee"
      },
      "outputs": [
        {
          "name": "stdout",
          "output_type": "stream",
          "text": [
            "HBGT\n",
            "acc max: 0.4923245614035088, number of features: 67 \n",
            "KNN\n",
            "acc max: 0.48548976608187133, number of features: 1 \n",
            "acc max: 0.44046052631578947, number of features: 1 \n",
            "acc max: 0.3918859649122807, number of features: 1 \n",
            "SVN\n",
            "acc max: 0.3850511695906433, number of features: 1 \n",
            "acc max: 0.4158260233918129, number of features: 1 \n",
            "acc max: 0.4158260233918129, number of features: 1 \n",
            "RF\n",
            "acc max: 0.49601608187134505, number of features: 26 \n",
            "acc max: 0.4995979532163743, number of features: 15 \n",
            "acc max: 0.5274853801169591, number of features: 12 \n"
          ]
        }
      ],
      "source": [
        "path_to_data = \"/content/drive/MyDrive/USG/cechy_duzo/tekstura_epi_CHI2.csv\"\n",
        "rescaledX, k = get_X(path_to_data)\n",
        "iterative_training(rescaledX, k)"
      ]
    },
    {
      "cell_type": "code",
      "execution_count": null,
      "metadata": {
        "colab": {
          "base_uri": "https://localhost:8080/"
        },
        "id": "HXy8aro3MZHH",
        "outputId": "7556c937-2378-4e6e-aca9-191a29f362a0"
      },
      "outputs": [
        {
          "name": "stdout",
          "output_type": "stream",
          "text": [
            "HBGT\n",
            "acc max: 0.5444444444444444, number of features: 19 \n",
            "KNN\n",
            "acc max: 0.48548976608187133, number of features: 1 \n",
            "acc max: 0.44046052631578947, number of features: 1 \n",
            "acc max: 0.3918859649122807, number of features: 1 \n",
            "SVN\n",
            "acc max: 0.3850511695906433, number of features: 1 \n",
            "acc max: 0.4158260233918129, number of features: 1 \n",
            "acc max: 0.4158260233918129, number of features: 1 \n",
            "RF\n",
            "acc max: 0.5168859649122807, number of features: 27 \n",
            "acc max: 0.4996345029239766, number of features: 91 \n",
            "acc max: 0.49605263157894736, number of features: 14 \n"
          ]
        }
      ],
      "source": [
        "path_to_data = \"/content/drive/MyDrive/USG/cechy_duzo/tekstura_epi_RMRM.csv\"\n",
        "rescaledX, k = get_X(path_to_data)\n",
        "iterative_training(rescaledX, k)"
      ]
    },
    {
      "cell_type": "code",
      "execution_count": null,
      "metadata": {
        "colab": {
          "base_uri": "https://localhost:8080/"
        },
        "id": "zurx1xmoMZYq",
        "outputId": "2358b08f-8f15-4fd8-be1d-cd9d4bef75f8"
      },
      "outputs": [
        {
          "name": "stdout",
          "output_type": "stream",
          "text": [
            "HBGT\n",
            "acc max: 0.5373172514619883, number of features: 86 \n",
            "KNN\n",
            "acc max: 0.48548976608187133, number of features: 1 \n",
            "acc max: 0.44046052631578947, number of features: 1 \n",
            "acc max: 0.3918859649122807, number of features: 1 \n",
            "SVN\n",
            "acc max: 0.3850511695906433, number of features: 1 \n",
            "acc max: 0.4158260233918129, number of features: 1 \n",
            "acc max: 0.4158260233918129, number of features: 1 \n",
            "RF\n",
            "acc max: 0.5134137426900585, number of features: 56 \n",
            "acc max: 0.5029605263157895, number of features: 84 \n",
            "acc max: 0.4926169590643275, number of features: 25 \n"
          ]
        }
      ],
      "source": [
        "path_to_data = \"/content/drive/MyDrive/USG/cechy_duzo/tekstura_epi_RelefF.csv\"\n",
        "X_train = pd.read_csv(path_to_data, header=None)\n",
        "rescaledX, k = get_X(path_to_data)\n",
        "iterative_training(rescaledX, k)"
      ]
    },
    {
      "cell_type": "markdown",
      "metadata": {
        "id": "3fcon90AMN7o"
      },
      "source": [
        "tekstura_sleb"
      ]
    },
    {
      "cell_type": "code",
      "execution_count": null,
      "metadata": {
        "colab": {
          "base_uri": "https://localhost:8080/"
        },
        "id": "l6nPxYuKOoNz",
        "outputId": "5dfea470-ffce-4443-dab8-1aa9d53cd0f9"
      },
      "outputs": [
        {
          "name": "stdout",
          "output_type": "stream",
          "text": [
            "HBGT\n",
            "acc max: 0.4816520467836258, number of features: 1 \n",
            "KNN\n",
            "acc max: 0.3984649122807018, number of features: 1 \n",
            "acc max: 0.3640716374269006, number of features: 1 \n",
            "acc max: 0.37821637426900584, number of features: 1 \n",
            "SVN\n",
            "acc max: 0.3506578947368421, number of features: 1 \n",
            "acc max: 0.38435672514619884, number of features: 1 \n",
            "acc max: 0.39130116959064326, number of features: 1 \n",
            "RF\n",
            "acc max: 0.4717470760233918, number of features: 54 \n",
            "acc max: 0.4716374269005848, number of features: 28 \n",
            "acc max: 0.4785453216374269, number of features: 44 \n"
          ]
        }
      ],
      "source": [
        "path_to_data = \"/content/drive/MyDrive/USG/cechy_duzo/tekstura_sleb_CHI2.csv\"\n",
        "rescaledX, k = get_X(path_to_data)\n",
        "iterative_training(rescaledX, k)"
      ]
    },
    {
      "cell_type": "code",
      "execution_count": null,
      "metadata": {
        "colab": {
          "base_uri": "https://localhost:8080/"
        },
        "id": "bhTvNLA6Op65",
        "outputId": "cf7f7f77-8c95-4d45-d7a9-5606df3c11f1"
      },
      "outputs": [
        {
          "name": "stdout",
          "output_type": "stream",
          "text": [
            "HBGT\n",
            "acc max: 0.4364766081871345, number of features: 8 \n",
            "KNN\n",
            "acc max: 0.3984649122807018, number of features: 1 \n",
            "acc max: 0.3640716374269006, number of features: 1 \n",
            "acc max: 0.37821637426900584, number of features: 1 \n",
            "SVN\n",
            "acc max: 0.3506578947368421, number of features: 1 \n",
            "acc max: 0.38435672514619884, number of features: 1 \n",
            "acc max: 0.39130116959064326, number of features: 1 \n",
            "RF\n",
            "acc max: 0.4681286549707602, number of features: 54 \n",
            "acc max: 0.4716374269005848, number of features: 42 \n",
            "acc max: 0.4786549707602339, number of features: 86 \n"
          ]
        }
      ],
      "source": [
        "path_to_data = \"/content/drive/MyDrive/USG/cechy_duzo/tekstura_sleb_RMRM.csv\"\n",
        "rescaledX, k = get_X(path_to_data)\n",
        "iterative_training(rescaledX, k)"
      ]
    },
    {
      "cell_type": "code",
      "execution_count": null,
      "metadata": {
        "colab": {
          "base_uri": "https://localhost:8080/"
        },
        "id": "Yu_c7K8vOqXt",
        "outputId": "dd1574d2-55a5-4df1-b506-a85da6ef38f7"
      },
      "outputs": [
        {
          "name": "stdout",
          "output_type": "stream",
          "text": [
            "HBGT\n",
            "acc max: 0.3877923976608187, number of features: 80 \n",
            "KNN\n",
            "acc max: 0.3984649122807018, number of features: 1 \n",
            "acc max: 0.3640716374269006, number of features: 1 \n",
            "acc max: 0.37821637426900584, number of features: 1 \n",
            "SVN\n",
            "acc max: 0.3506578947368421, number of features: 1 \n",
            "acc max: 0.38435672514619884, number of features: 1 \n",
            "acc max: 0.39130116959064326, number of features: 1 \n",
            "RF\n",
            "acc max: 0.4786549707602339, number of features: 16 \n",
            "acc max: 0.4716374269005848, number of features: 89 \n",
            "acc max: 0.47171052631578947, number of features: 50 \n"
          ]
        }
      ],
      "source": [
        "path_to_data = \"/content/drive/MyDrive/USG/cechy_duzo/tekstura_sleb_RelefF.csv\"\n",
        "rescaledX, k = get_X(path_to_data)\n",
        "iterative_training(rescaledX, k)"
      ]
    },
    {
      "cell_type": "markdown",
      "metadata": {
        "id": "0RjfSih7MSH4"
      },
      "source": [
        "tekstura_sleb60"
      ]
    },
    {
      "cell_type": "code",
      "execution_count": null,
      "metadata": {
        "colab": {
          "base_uri": "https://localhost:8080/"
        },
        "id": "-f7WrA1kOzh6",
        "outputId": "9f8d4c17-6a95-4835-8504-39850c81eb36"
      },
      "outputs": [
        {
          "name": "stdout",
          "output_type": "stream",
          "text": [
            "HBGT\n",
            "acc max: 0.4816520467836258, number of features: 1 \n",
            "KNN\n",
            "acc max: 0.43315058479532165, number of features: 1 \n",
            "acc max: 0.37079678362573104, number of features: 1 \n",
            "acc max: 0.35000000000000003, number of features: 1 \n",
            "SVN\n",
            "acc max: 0.36779970760233915, number of features: 1 \n",
            "acc max: 0.4919956140350877, number of features: 1 \n",
            "acc max: 0.47463450292397663, number of features: 1 \n",
            "RF\n",
            "acc max: 0.5029605263157895, number of features: 98 \n",
            "acc max: 0.5030336257309942, number of features: 16 \n",
            "acc max: 0.49605263157894736, number of features: 3 \n"
          ]
        }
      ],
      "source": [
        "path_to_data = \"/content/drive/MyDrive/USG/cechy_duzo/tekstura_sleb60_CHI2.csv\"\n",
        "rescaledX, k = get_X(path_to_data)\n",
        "iterative_training(rescaledX, k)"
      ]
    },
    {
      "cell_type": "code",
      "execution_count": null,
      "metadata": {
        "colab": {
          "base_uri": "https://localhost:8080/"
        },
        "id": "uPKynrvfOz38",
        "outputId": "eb5f07c4-42fb-43b6-d4de-b7f5d955a899"
      },
      "outputs": [
        {
          "name": "stdout",
          "output_type": "stream",
          "text": [
            "HBGT\n",
            "acc max: 0.4608187134502924, number of features: 9 \n",
            "KNN\n",
            "acc max: 0.43315058479532165, number of features: 1 \n",
            "acc max: 0.37079678362573104, number of features: 1 \n",
            "acc max: 0.35000000000000003, number of features: 1 \n",
            "SVN\n",
            "acc max: 0.36779970760233915, number of features: 1 \n",
            "acc max: 0.4919956140350877, number of features: 1 \n",
            "acc max: 0.47463450292397663, number of features: 1 \n",
            "RF\n",
            "acc max: 0.4959429824561403, number of features: 101 \n",
            "acc max: 0.506359649122807, number of features: 106 \n",
            "acc max: 0.506469298245614, number of features: 26 \n"
          ]
        }
      ],
      "source": [
        "path_to_data = \"/content/drive/MyDrive/USG/cechy_duzo/tekstura_sleb60_RMRM.csv\"\n",
        "rescaledX, k = get_X(path_to_data)\n",
        "iterative_training(rescaledX, k)"
      ]
    },
    {
      "cell_type": "code",
      "execution_count": null,
      "metadata": {
        "colab": {
          "base_uri": "https://localhost:8080/"
        },
        "id": "GxxTcghnO0Dx",
        "outputId": "65addb62-7b14-439e-c021-c78d58818e64"
      },
      "outputs": [
        {
          "name": "stdout",
          "output_type": "stream",
          "text": [
            "HBGT\n",
            "acc max: 0.45073099415204676, number of features: 91 \n",
            "KNN\n",
            "acc max: 0.43315058479532165, number of features: 1 \n",
            "acc max: 0.37079678362573104, number of features: 1 \n",
            "acc max: 0.35000000000000003, number of features: 1 \n",
            "SVN\n",
            "acc max: 0.36779970760233915, number of features: 1 \n",
            "acc max: 0.4919956140350877, number of features: 1 \n",
            "acc max: 0.47463450292397663, number of features: 1 \n",
            "RF\n",
            "acc max: 0.5065423976608187, number of features: 99 \n",
            "acc max: 0.49601608187134505, number of features: 2 \n",
            "acc max: 0.4994517543859649, number of features: 43 \n"
          ]
        }
      ],
      "source": [
        "path_to_data = \"/content/drive/MyDrive/USG/cechy_duzo/tekstura_sleb60_RelefF.csv\"\n",
        "rescaledX, k = get_X(path_to_data)\n",
        "iterative_training(rescaledX, k)"
      ]
    },
    {
      "cell_type": "markdown",
      "metadata": {
        "id": "coAunVLneJMT"
      },
      "source": [
        "wszystko_epiT_slebT60"
      ]
    },
    {
      "cell_type": "code",
      "execution_count": null,
      "metadata": {
        "colab": {
          "base_uri": "https://localhost:8080/"
        },
        "id": "_Sk-Y8JYeH2d",
        "outputId": "fd0db2e1-dcfe-4853-e4d2-429daf228586"
      },
      "outputs": [
        {
          "name": "stdout",
          "output_type": "stream",
          "text": [
            "HBGT\n",
            "acc max: 0.5163742690058479, number of features: 6 \n",
            "KNN\n",
            "acc max: 0.48530701754385963, number of features: 1 \n",
            "acc max: 0.40204678362573104, number of features: 1 \n",
            "acc max: 0.37434210526315786, number of features: 1 \n",
            "SVN\n",
            "acc max: 0.38183479532163744, number of features: 1 \n",
            "acc max: 0.4579678362573099, number of features: 1 \n",
            "acc max: 0.4579678362573099, number of features: 1 \n",
            "RF\n",
            "acc max: 0.485562865497076, number of features: 13 \n",
            "acc max: 0.49605263157894736, number of features: 84 \n",
            "acc max: 0.4891812865497076, number of features: 127 \n"
          ]
        }
      ],
      "source": [
        "path_to_data = \"/content/drive/MyDrive/USG/cechy_duzo/wszystko_epiT_slebT60_CHI2.csv\"\n",
        "rescaledX, k = get_X(path_to_data)\n",
        "iterative_training(rescaledX, k)"
      ]
    },
    {
      "cell_type": "code",
      "execution_count": null,
      "metadata": {
        "colab": {
          "base_uri": "https://localhost:8080/"
        },
        "id": "vweP5I3PeIDV",
        "outputId": "13aa257d-3d52-466a-c624-0f7bf2f7e793"
      },
      "outputs": [
        {
          "name": "stdout",
          "output_type": "stream",
          "text": [
            "HBGT\n",
            "acc max: 0.523501461988304, number of features: 76 \n",
            "KNN\n",
            "acc max: 0.48530701754385963, number of features: 1 \n",
            "acc max: 0.40204678362573104, number of features: 1 \n",
            "acc max: 0.37434210526315786, number of features: 1 \n",
            "SVN\n",
            "acc max: 0.38183479532163744, number of features: 1 \n",
            "acc max: 0.4579678362573099, number of features: 1 \n",
            "acc max: 0.4579678362573099, number of features: 1 \n",
            "RF\n",
            "acc max: 0.49265350877192987, number of features: 70 \n",
            "acc max: 0.48925438596491233, number of features: 152 \n",
            "acc max: 0.4995248538011696, number of features: 109 \n"
          ]
        }
      ],
      "source": [
        "path_to_data = \"/content/drive/MyDrive/USG/cechy_duzo/wszystko_epiT_slebT60_RMRM.csv\"\n",
        "rescaledX, k = get_X(path_to_data)\n",
        "iterative_training(rescaledX, k)"
      ]
    },
    {
      "cell_type": "code",
      "execution_count": null,
      "metadata": {
        "colab": {
          "base_uri": "https://localhost:8080/"
        },
        "id": "GWrevVs_eIKz",
        "outputId": "c2d4b987-3a40-49e5-eddf-004e97235e5f"
      },
      "outputs": [
        {
          "name": "stdout",
          "output_type": "stream",
          "text": [
            "HBGT\n",
            "acc max: 0.48523391812865496, number of features: 205 \n",
            "KNN\n",
            "acc max: 0.48530701754385963, number of features: 1 \n",
            "acc max: 0.40204678362573104, number of features: 1 \n",
            "acc max: 0.37434210526315786, number of features: 1 \n",
            "SVN\n",
            "acc max: 0.38183479532163744, number of features: 1 \n",
            "acc max: 0.4579678362573099, number of features: 1 \n",
            "acc max: 0.4579678362573099, number of features: 1 \n",
            "RF\n",
            "acc max: 0.49597953216374263, number of features: 74 \n",
            "acc max: 0.4926169590643275, number of features: 12 \n",
            "acc max: 0.5029605263157895, number of features: 133 \n"
          ]
        }
      ],
      "source": [
        "path_to_data = \"/content/drive/MyDrive/USG/cechy_duzo/wszystko_epiT_slebT60_RelefF.csv\"\n",
        "rescaledX, k = get_X(path_to_data)\n",
        "iterative_training(rescaledX, k)"
      ]
    },
    {
      "cell_type": "markdown",
      "metadata": {
        "id": "LuePaEPzeadO"
      },
      "source": [
        "wszystko_epiM_slebM"
      ]
    },
    {
      "cell_type": "code",
      "execution_count": null,
      "metadata": {
        "colab": {
          "base_uri": "https://localhost:8080/"
        },
        "id": "khHr_WFRe64p",
        "outputId": "f21ff1e3-dc58-4d2a-9761-1a7d51db30e5"
      },
      "outputs": [
        {
          "name": "stdout",
          "output_type": "stream",
          "text": [
            "HBGT\n",
            "acc max: 0.46151315789473685, number of features: 1 \n",
            "KNN\n",
            "acc max: 0.29755116959064326, number of features: 1 \n",
            "acc max: 0.3046783625730994, number of features: 1 \n",
            "acc max: 0.3432017543859649, number of features: 1 \n",
            "SVN\n",
            "acc max: 0.3366228070175438, number of features: 1 \n",
            "acc max: 0.339766081871345, number of features: 1 \n",
            "acc max: 0.28318713450292393, number of features: 1 \n",
            "RF\n",
            "acc max: 0.36030701754385963, number of features: 13 \n",
            "acc max: 0.3430190058479532, number of features: 13 \n",
            "acc max: 0.33600146198830405, number of features: 3 \n"
          ]
        }
      ],
      "source": [
        "path_to_data = \"/content/drive/MyDrive/USG/cechy_duzo/wszystko_epiM_slebM_CHI2.csv\"\n",
        "rescaledX, k = get_X(path_to_data)\n",
        "iterative_training(rescaledX, k)"
      ]
    },
    {
      "cell_type": "code",
      "execution_count": null,
      "metadata": {
        "colab": {
          "base_uri": "https://localhost:8080/"
        },
        "id": "MRx_F6AQe7EJ",
        "outputId": "7588423f-4f92-4d88-cd03-d3beac945cb5"
      },
      "outputs": [
        {
          "name": "stdout",
          "output_type": "stream",
          "text": [
            "HBGT\n",
            "acc max: 0.41907894736842105, number of features: 6 \n",
            "KNN\n",
            "acc max: 0.29755116959064326, number of features: 1 \n",
            "acc max: 0.3046783625730994, number of features: 1 \n",
            "acc max: 0.3432017543859649, number of features: 1 \n",
            "SVN\n",
            "acc max: 0.3366228070175438, number of features: 1 \n",
            "acc max: 0.339766081871345, number of features: 1 \n",
            "acc max: 0.28318713450292393, number of features: 1 \n",
            "RF\n",
            "acc max: 0.3639985380116959, number of features: 10 \n",
            "acc max: 0.33961988304093566, number of features: 6 \n",
            "acc max: 0.36023391812865496, number of features: 16 \n"
          ]
        }
      ],
      "source": [
        "path_to_data = \"/content/drive/MyDrive/USG/cechy_duzo/wszystko_epiM_slebM_RMRM.csv\"\n",
        "rescaledX, k = get_X(path_to_data)\n",
        "iterative_training(rescaledX, k)"
      ]
    },
    {
      "cell_type": "code",
      "execution_count": null,
      "metadata": {
        "colab": {
          "base_uri": "https://localhost:8080/"
        },
        "id": "qiKEjqBye7LG",
        "outputId": "5ba5387a-d71a-469a-83a9-0bc25696924b"
      },
      "outputs": [
        {
          "name": "stdout",
          "output_type": "stream",
          "text": [
            "HBGT\n",
            "acc max: 0.46151315789473685, number of features: 1 \n",
            "KNN\n",
            "acc max: 0.29755116959064326, number of features: 1 \n",
            "acc max: 0.3046783625730994, number of features: 1 \n",
            "acc max: 0.3432017543859649, number of features: 1 \n",
            "SVN\n",
            "acc max: 0.3366228070175438, number of features: 1 \n",
            "acc max: 0.339766081871345, number of features: 1 \n",
            "acc max: 0.28318713450292393, number of features: 1 \n",
            "RF\n",
            "acc max: 0.34309210526315786, number of features: 3 \n",
            "acc max: 0.3463815789473685, number of features: 10 \n",
            "acc max: 0.3639254385964912, number of features: 10 \n"
          ]
        }
      ],
      "source": [
        "path_to_data = \"/content/drive/MyDrive/USG/cechy_duzo/wszystko_epiM_slebM_RelefF.csv\"\n",
        "rescaledX, k = get_X(path_to_data)\n",
        "iterative_training(rescaledX, k)"
      ]
    },
    {
      "cell_type": "markdown",
      "metadata": {
        "id": "alDci2yIfD5U"
      },
      "source": [
        "wszystko_epiT_slebT"
      ]
    },
    {
      "cell_type": "code",
      "execution_count": null,
      "metadata": {
        "colab": {
          "base_uri": "https://localhost:8080/"
        },
        "id": "4IW1pdiYfIH1",
        "outputId": "c46c2c42-6c3d-4496-b032-b9e65b71563e"
      },
      "outputs": [
        {
          "name": "stdout",
          "output_type": "stream",
          "text": [
            "HBGT\n",
            "acc max: 0.5163742690058479, number of features: 6 \n",
            "KNN\n",
            "acc max: 0.4608918128654971, number of features: 1 \n",
            "acc max: 0.43336988304093566, number of features: 1 \n",
            "acc max: 0.38837719298245615, number of features: 1 \n",
            "SVN\n",
            "acc max: 0.38881578947368417, number of features: 1 \n",
            "acc max: 0.4753289473684211, number of features: 1 \n",
            "acc max: 0.4753289473684211, number of features: 1 \n",
            "RF\n",
            "acc max: 0.45423976608187133, number of features: 153 \n",
            "acc max: 0.4890716374269006, number of features: 32 \n",
            "acc max: 0.46476608187134505, number of features: 55 \n"
          ]
        }
      ],
      "source": [
        "path_to_data = \"/content/drive/MyDrive/USG/cechy_duzo/wszystko_epiT_slebT_CHI2.csv\"\n",
        "rescaledX, k = get_X(path_to_data)\n",
        "iterative_training(rescaledX, k)"
      ]
    },
    {
      "cell_type": "code",
      "execution_count": null,
      "metadata": {
        "colab": {
          "base_uri": "https://localhost:8080/"
        },
        "id": "31IEyWDsfIx3",
        "outputId": "9e016293-f8e9-4a50-da95-5f207a3fc286"
      },
      "outputs": [
        {
          "name": "stdout",
          "output_type": "stream",
          "text": [
            "HBGT\n",
            "acc max: 0.4989766081871345, number of features: 75 \n",
            "KNN\n",
            "acc max: 0.4608918128654971, number of features: 1 \n",
            "acc max: 0.43336988304093566, number of features: 1 \n",
            "acc max: 0.38837719298245615, number of features: 1 \n",
            "SVN\n",
            "acc max: 0.38881578947368417, number of features: 1 \n",
            "acc max: 0.4753289473684211, number of features: 1 \n",
            "acc max: 0.4753289473684211, number of features: 1 \n",
            "RF\n",
            "acc max: 0.464656432748538, number of features: 43 \n",
            "acc max: 0.4648391812865497, number of features: 53 \n",
            "acc max: 0.4717836257309942, number of features: 121 \n"
          ]
        }
      ],
      "source": [
        "path_to_data = \"/content/drive/MyDrive/USG/cechy_duzo/wszystko_epiT_slebT_RMRM.csv\"\n",
        "rescaledX, k = get_X(path_to_data)\n",
        "iterative_training(rescaledX, k)"
      ]
    },
    {
      "cell_type": "code",
      "execution_count": null,
      "metadata": {
        "colab": {
          "base_uri": "https://localhost:8080/"
        },
        "id": "QKuzF_I4fI6N",
        "outputId": "8f97242a-9a20-4eb6-a3a6-906d28cec4c8"
      },
      "outputs": [
        {
          "name": "stdout",
          "output_type": "stream",
          "text": [
            "HBGT\n",
            "acc max: 0.485453216374269, number of features: 15 \n",
            "KNN\n",
            "acc max: 0.4608918128654971, number of features: 1 \n",
            "acc max: 0.43336988304093566, number of features: 1 \n",
            "acc max: 0.38837719298245615, number of features: 1 \n",
            "SVN\n",
            "acc max: 0.38881578947368417, number of features: 1 \n",
            "acc max: 0.4753289473684211, number of features: 1 \n",
            "acc max: 0.4753289473684211, number of features: 1 \n",
            "RF\n",
            "acc max: 0.4717836257309942, number of features: 180 \n",
            "acc max: 0.4820906432748538, number of features: 22 \n",
            "acc max: 0.4682017543859649, number of features: 90 \n"
          ]
        }
      ],
      "source": [
        "path_to_data = \"/content/drive/MyDrive/USG/cechy_duzo/wszystko_epiT_slebT_RelefF.csv\"\n",
        "rescaledX, k = get_X(path_to_data)\n",
        "iterative_training(rescaledX, k)"
      ]
    },
    {
      "cell_type": "markdown",
      "metadata": {
        "id": "dYqk3Re9fJ8_"
      },
      "source": [
        "wszystko_epiMT_sleb60MT"
      ]
    },
    {
      "cell_type": "code",
      "execution_count": null,
      "metadata": {
        "colab": {
          "base_uri": "https://localhost:8080/"
        },
        "id": "NIXCrUSXfKO1",
        "outputId": "5763f800-3a1e-43d9-8e31-cc105f62adc2"
      },
      "outputs": [
        {
          "name": "stdout",
          "output_type": "stream",
          "text": [
            "HBGT\n",
            "acc max: 0.5199926900584796, number of features: 168 \n",
            "KNN\n",
            "acc max: 0.48538011695906436, number of features: 1 \n",
            "acc max: 0.4160087719298245, number of features: 1 \n",
            "acc max: 0.37792397660818716, number of features: 1 \n",
            "SVN\n",
            "acc max: 0.354093567251462, number of features: 1 \n",
            "acc max: 0.426937134502924, number of features: 1 \n",
            "acc max: 0.426937134502924, number of features: 1 \n",
            "RF\n",
            "acc max: 0.49956140350877193, number of features: 16 \n",
            "acc max: 0.510014619883041, number of features: 43 \n",
            "acc max: 0.4926169590643275, number of features: 104 \n"
          ]
        }
      ],
      "source": [
        "path_to_data = \"/content/drive/MyDrive/USG/cechy_duzo/wszystko_epiMT_sleb60MT_CHI2.csv\"\n",
        "rescaledX, k = get_X(path_to_data)\n",
        "iterative_training(rescaledX, k)"
      ]
    },
    {
      "cell_type": "code",
      "execution_count": null,
      "metadata": {
        "colab": {
          "base_uri": "https://localhost:8080/"
        },
        "id": "_m4l8vYYfKTW",
        "outputId": "3c79b00b-97fd-41b5-ffc0-888e26cab651"
      },
      "outputs": [
        {
          "name": "stdout",
          "output_type": "stream",
          "text": [
            "HBGT\n",
            "acc max: 0.5200657894736842, number of features: 135 \n",
            "KNN\n",
            "acc max: 0.48538011695906436, number of features: 1 \n",
            "acc max: 0.4160087719298245, number of features: 1 \n",
            "acc max: 0.37792397660818716, number of features: 1 \n",
            "SVN\n",
            "acc max: 0.354093567251462, number of features: 1 \n",
            "acc max: 0.426937134502924, number of features: 1 \n",
            "acc max: 0.426937134502924, number of features: 1 \n",
            "RF\n",
            "acc max: 0.485562865497076, number of features: 85 \n",
            "acc max: 0.4995979532163743, number of features: 74 \n",
            "acc max: 0.4891812865497076, number of features: 46 \n"
          ]
        }
      ],
      "source": [
        "path_to_data = \"/content/drive/MyDrive/USG/cechy_duzo/wszystko_epiMT_sleb60MT_RMRM.csv\"\n",
        "rescaledX, k = get_X(path_to_data)\n",
        "iterative_training(rescaledX, k)"
      ]
    },
    {
      "cell_type": "code",
      "execution_count": null,
      "metadata": {
        "colab": {
          "base_uri": "https://localhost:8080/"
        },
        "id": "nHbnQC9kfKXX",
        "outputId": "8a11a29f-08b9-4eca-cfce-96bfc330f72f"
      },
      "outputs": [
        {
          "name": "stdout",
          "output_type": "stream",
          "text": [
            "HBGT\n",
            "acc max: 0.49225146198830405, number of features: 204 \n",
            "KNN\n",
            "acc max: 0.48538011695906436, number of features: 1 \n",
            "acc max: 0.4160087719298245, number of features: 1 \n",
            "acc max: 0.37792397660818716, number of features: 1 \n",
            "SVN\n",
            "acc max: 0.354093567251462, number of features: 1 \n",
            "acc max: 0.426937134502924, number of features: 1 \n",
            "acc max: 0.426937134502924, number of features: 1 \n",
            "RF\n",
            "acc max: 0.5029605263157895, number of features: 219 \n",
            "acc max: 0.4822002923976609, number of features: 4 \n",
            "acc max: 0.4891812865497076, number of features: 15 \n"
          ]
        }
      ],
      "source": [
        "path_to_data = \"/content/drive/MyDrive/USG/cechy_duzo/wszystko_epiMT_sleb60MT_RelefF.csv\"\n",
        "rescaledX, k = get_X(path_to_data)\n",
        "iterative_training(rescaledX, k)"
      ]
    },
    {
      "cell_type": "markdown",
      "metadata": {
        "id": "kmv5bvbsfKqO"
      },
      "source": [
        "wszystko_epiMT_slebMT"
      ]
    },
    {
      "cell_type": "code",
      "execution_count": null,
      "metadata": {
        "colab": {
          "background_save": true
        },
        "id": "UIHGhXiMfNiX",
        "outputId": "1566ea4d-1290-498c-966a-6a55ca40f422"
      },
      "outputs": [
        {
          "name": "stdout",
          "output_type": "stream",
          "text": [
            "HBGT\n",
            "acc max: 0.5163742690058479, number of features: 6 \n",
            "KNN\n",
            "acc max: 0.44016812865497074, number of features: 1 \n",
            "acc max: 0.41268274853801173, number of features: 1 \n",
            "acc max: 0.3675438596491228, number of features: 1 \n",
            "SVN\n",
            "acc max: 0.34714912280701754, number of features: 1 \n",
            "acc max: 0.4338084795321637, number of features: 1 \n",
            "acc max: 0.4338084795321637, number of features: 1 \n",
            "RF\n",
            "acc max: 0.4612938596491228, number of features: 139 \n",
            "acc max: 0.4578947368421053, number of features: 79 \n",
            "acc max: 0.4717470760233918, number of features: 212 \n"
          ]
        }
      ],
      "source": [
        "path_to_data = \"/content/drive/MyDrive/USG/cechy_duzo/wszystko_epiMT_slebMT_CHI2.csv\"\n",
        "rescaledX, k = get_X(path_to_data)\n",
        "iterative_training(rescaledX, k)"
      ]
    },
    {
      "cell_type": "code",
      "execution_count": null,
      "metadata": {
        "colab": {
          "background_save": true
        },
        "id": "WGbQ0FgofNmT",
        "outputId": "75ed5d78-2209-4c00-e165-534fba709557"
      },
      "outputs": [
        {
          "name": "stdout",
          "output_type": "stream",
          "text": [
            "HBGT\n",
            "acc max: 0.4817251461988304, number of features: 72 \n",
            "KNN\n",
            "acc max: 0.44016812865497074, number of features: 1 \n",
            "acc max: 0.41268274853801173, number of features: 1 \n",
            "acc max: 0.3675438596491228, number of features: 1 \n",
            "SVN\n",
            "acc max: 0.34714912280701754, number of features: 1 \n",
            "acc max: 0.4338084795321637, number of features: 1 \n",
            "acc max: 0.4338084795321637, number of features: 1 \n",
            "RF\n",
            "acc max: 0.4543859649122807, number of features: 193 \n",
            "acc max: 0.4682017543859649, number of features: 95 \n",
            "acc max: 0.46122076023391817, number of features: 94 \n"
          ]
        }
      ],
      "source": [
        "path_to_data = \"/content/drive/MyDrive/USG/cechy_duzo/wszystko_epiMT_slebMT_RMRM.csv\"\n",
        "rescaledX, k = get_X(path_to_data)\n",
        "iterative_training(rescaledX, k)"
      ]
    },
    {
      "cell_type": "code",
      "execution_count": null,
      "metadata": {
        "colab": {
          "background_save": true
        },
        "id": "3Ech7orofNp9",
        "outputId": "89f7dda1-84cd-4aa9-a899-e48fd1862c6c"
      },
      "outputs": [
        {
          "name": "stdout",
          "output_type": "stream",
          "text": [
            "HBGT\n",
            "acc max: 0.4783260233918129, number of features: 175 \n",
            "KNN\n",
            "acc max: 0.44016812865497074, number of features: 1 \n",
            "acc max: 0.41268274853801173, number of features: 1 \n",
            "acc max: 0.3675438596491228, number of features: 1 \n",
            "SVN\n",
            "acc max: 0.34714912280701754, number of features: 1 \n",
            "acc max: 0.4338084795321637, number of features: 1 \n",
            "acc max: 0.4338084795321637, number of features: 1 \n",
            "RF\n",
            "acc max: 0.47518274853801173, number of features: 32 \n",
            "acc max: 0.46133040935672515, number of features: 52 \n",
            "acc max: 0.46133040935672515, number of features: 170 \n"
          ]
        }
      ],
      "source": [
        "path_to_data = \"/content/drive/MyDrive/USG/cechy_duzo/wszystko_epiMT_slebMT_RelefF.csv\"\n",
        "rescaledX, k = get_X(path_to_data)\n",
        "iterative_training(rescaledX, k)"
      ]
    },
    {
      "cell_type": "markdown",
      "metadata": {
        "id": "Gx4WWw2Mhmsu"
      },
      "source": [
        "wszystko_epiMT"
      ]
    },
    {
      "cell_type": "code",
      "execution_count": null,
      "metadata": {
        "id": "Jy3QZDrLhrDK"
      },
      "outputs": [],
      "source": [
        "path_to_data = \"/content/drive/MyDrive/USG/cechy_duzo/wszystko_epiMT_CHI2.csv\"\n",
        "rescaledX, k = get_X(path_to_data)\n",
        "iterative_training(rescaledX, k)"
      ]
    },
    {
      "cell_type": "code",
      "execution_count": null,
      "metadata": {
        "id": "D2GXCvH5hrPg"
      },
      "outputs": [],
      "source": [
        "path_to_data = \"/content/drive/MyDrive/USG/cechy_duzo/wszystko_epiMT_RMRM.csv\"\n",
        "rescaledX, k = get_X(path_to_data)\n",
        "iterative_training(rescaledX, k)"
      ]
    },
    {
      "cell_type": "code",
      "execution_count": null,
      "metadata": {
        "id": "OlbyPdM5hrWc"
      },
      "outputs": [],
      "source": [
        "path_to_data = \"/content/drive/MyDrive/USG/cechy_duzo/wszystko_epiMT_RelefF.csv\"\n",
        "rescaledX, k = get_X(path_to_data)\n",
        "iterative_training(rescaledX, k)"
      ]
    },
    {
      "cell_type": "code",
      "execution_count": null,
      "metadata": {
        "id": "nP2CjaO4Hn9C"
      },
      "outputs": [],
      "source": [
        "import cv2\n",
        "import numpy as np\n",
        "\n",
        "def dullrazor_hair_removal(image):\n",
        "    # Krok 1: Operacja morfologicznego domknięcia dla wybrania ciemnych włosów\n",
        "    kernel = np.ones((5, 5), np.uint8)\n",
        "    closing = cv2.morphologyEx(image, cv2.MORPH_CLOSE, kernel)\n",
        "\n",
        "    # Krok 2: Użycie interpolacji dwuliniowej do sprawdzenia i zastąpienia pikseli włosów\n",
        "    hair_mask = cv2.absdiff(image, closing)\n",
        "    hair_mask = cv2.cvtColor(hair_mask, cv2.COLOR_BGR2GRAY)\n",
        "    _, hair_mask = cv2.threshold(hair_mask, 30, 255, cv2.THRESH_BINARY)\n",
        "\n",
        "    blurred_hair_mask = cv2.GaussianBlur(hair_mask, (5, 5), 0)\n",
        "    _, hair_mask = cv2.threshold(blurred_hair_mask, 200, 255, cv2.THRESH_BINARY)\n",
        "\n",
        "    # Krok 3: Wygładzanie nowych pikseli za pomocą filtru medianowego\n",
        "    hair_removed = cv2.inpaint(image, hair_mask, inpaintRadius=5, flags=cv2.INPAINT_TELEA)\n",
        "\n",
        "    return hair_removed\n",
        "\n",
        "# Przykładowe użycie\n",
        "img_path = 'sciezka/do/obrazu.jpg'\n",
        "input_image = cv2.imread(img_path)\n",
        "\n",
        "result_image = dullrazor_hair_removal(input_image)\n",
        "\n",
        "cv2.imshow('Before', input_image)\n",
        "cv2.imshow('After', result_image)\n",
        "cv2.waitKey(0)\n",
        "cv2.destroyAllWindows()"
      ]
    },
    {
      "cell_type": "markdown",
      "metadata": {
        "id": "CZUflU1YD-57"
      },
      "source": [
        "# stare\n"
      ]
    },
    {
      "cell_type": "code",
      "execution_count": null,
      "metadata": {
        "colab": {
          "base_uri": "https://localhost:8080/"
        },
        "id": "2i9fekDLJha6",
        "outputId": "35fc4b6e-ff25-4d9b-b056-00bc9a28eebe"
      },
      "outputs": [
        {
          "name": "stdout",
          "output_type": "stream",
          "text": [
            "acc max: 0.5341008771929824, number of features: 55 \n",
            "acc max: 0.5133040935672515, number of features: 19 \n",
            "acc max: 0.5063961988304093, number of features: 9 \n",
            "acc max: 0.5236111111111111, number of features: 11 \n",
            "acc max: 0.5132675438596491, number of features: 18 \n",
            "acc max: 0.5133040935672515, number of features: 46 \n"
          ]
        }
      ],
      "source": [
        "acc1=[]\n",
        "acc2=[]\n",
        "acc3=[]\n",
        "acc4=[]\n",
        "acc5=[]\n",
        "acc6=[]\n",
        "\n",
        "for i in range(1,k):\n",
        "    X_new = rescaledX[:, 0:i]\n",
        "    acc1.append(rf_train(rescaledX, Y_train, clw = 'balanced', crit='gini', mf='sqrt'))\n",
        "    acc2.append(rf_train(rescaledX, Y_train, clw = 'balanced', crit='gini', mf='log2'))\n",
        "    acc3.append(rf_train(rescaledX, Y_train, clw = 'balanced', crit='entropy', mf='sqrt'))\n",
        "    acc4.append(rf_train(rescaledX, Y_train, clw = 'balanced', crit='entropy', mf='log2'))\n",
        "    acc5.append(rf_train(rescaledX, Y_train, clw ='balanced', crit='log_loss', mf='sqrt'))\n",
        "    acc6.append(rf_train(rescaledX, Y_train, clw = 'balanced', crit='log_loss', mf='log2'))\n",
        "\n",
        "print(f'acc max: {max(acc1)}, number of features: {acc1.index(max(acc1))} ')\n",
        "print(f'acc max: {max(acc2)}, number of features: {acc2.index(max(acc2))} ')\n",
        "print(f'acc max: {max(acc3)}, number of features: {acc3.index(max(acc3))} ')\n",
        "print(f'acc max: {max(acc4)}, number of features: {acc4.index(max(acc4))} ')\n",
        "print(f'acc max: {max(acc5)}, number of features: {acc5.index(max(acc5))} ')\n",
        "print(f'acc max: {max(acc6)}, number of features: {acc6.index(max(acc6))} ')"
      ]
    },
    {
      "cell_type": "code",
      "execution_count": null,
      "metadata": {
        "colab": {
          "base_uri": "https://localhost:8080/"
        },
        "id": "JibW5BrwImOz",
        "outputId": "0865f8b3-d1ba-43fa-da9b-980f9ba7708c"
      },
      "outputs": [
        {
          "name": "stdout",
          "output_type": "stream",
          "text": [
            "acc max: 0.44290935672514614, number of features: 0 \n",
            "acc max: 0.4574195906432748, number of features: 0 \n",
            "acc max: 0.45416666666666666, number of features: 0 \n",
            "acc max: 0.45423976608187133, number of features: 0 \n",
            "acc max: 0.4266812865497076, number of features: 0 \n",
            "acc max: 0.381798245614035, number of features: 0 \n",
            "acc max: 0.3611111111111111, number of features: 0 \n",
            "acc max: 0.3333333333333333, number of features: 0 \n",
            "acc max: 0.3333333333333333, number of features: 0 \n"
          ]
        }
      ],
      "source": [
        "acc1=[]\n",
        "acc2=[]\n",
        "acc3=[]\n",
        "acc4=[]\n",
        "acc5=[]\n",
        "acc6=[]\n",
        "acc7=[]\n",
        "acc8=[]\n",
        "acc9=[]\n",
        "\n",
        "\n",
        "for i in range(1,k):\n",
        "    X_new = rescaledX[:, 0:i]\n",
        "    acc1.append(svn_train(rescaledX, Y_train, gamma=0.1, C=10, kernel='rbf'))\n",
        "    acc2.append(svn_train(rescaledX, Y_train, gamma=1, C=10, kernel='rbf'))\n",
        "    acc3.append(svn_train(rescaledX, Y_train, gamma=2, C=10, kernel='rbf'))\n",
        "    acc4.append(svn_train(rescaledX, Y_train, gamma=3, C=10, kernel='rbf'))\n",
        "    acc5.append(svn_train(rescaledX, Y_train, gamma=5, C=10, kernel='rbf'))\n",
        "    acc6.append(svn_train(rescaledX, Y_train, gamma=10, C=10, kernel='rbf'))\n",
        "    acc7.append(svn_train(rescaledX, Y_train, gamma=15, C=10, kernel='rbf'))\n",
        "    acc8.append(svn_train(rescaledX, Y_train, gamma=20, C=10, kernel='rbf'))\n",
        "    acc9.append(svn_train(rescaledX, Y_train, gamma=25, C=10, kernel='rbf'))\n",
        "\n",
        "print(f'acc max: {max(acc1)}, number of features: {acc1.index(max(acc1))} ')\n",
        "print(f'acc max: {max(acc2)}, number of features: {acc2.index(max(acc2))} ')\n",
        "print(f'acc max: {max(acc3)}, number of features: {acc3.index(max(acc3))} ')\n",
        "print(f'acc max: {max(acc4)}, number of features: {acc4.index(max(acc4))} ')\n",
        "print(f'acc max: {max(acc5)}, number of features: {acc5.index(max(acc5))} ')\n",
        "print(f'acc max: {max(acc6)}, number of features: {acc6.index(max(acc6))} ')\n",
        "print(f'acc max: {max(acc7)}, number of features: {acc7.index(max(acc7))} ')\n",
        "print(f'acc max: {max(acc8)}, number of features: {acc8.index(max(acc8))} ')\n",
        "print(f'acc max: {max(acc9)}, number of features: {acc9.index(max(acc9))} ')"
      ]
    },
    {
      "cell_type": "code",
      "execution_count": null,
      "metadata": {
        "colab": {
          "base_uri": "https://localhost:8080/"
        },
        "id": "dsuuG1OZIGRE",
        "outputId": "47d68f79-9fa9-49c5-8464-2a365952f534"
      },
      "outputs": [
        {
          "name": "stdout",
          "output_type": "stream",
          "text": [
            "acc max: 0.4224049707602339, number of features: 0 \n",
            "acc max: 0.3742324561403509, number of features: 0 \n",
            "acc max: 0.40559210526315786, number of features: 0 \n",
            "acc max: 0.4021929824561403, number of features: 0 \n",
            "acc max: 0.391812865497076, number of features: 0 \n",
            "acc max: 0.3572733918128655, number of features: 0 \n"
          ]
        }
      ],
      "source": [
        "acc1=[]\n",
        "acc2=[]\n",
        "acc3=[]\n",
        "acc4=[]\n",
        "acc5=[]\n",
        "acc6=[]\n",
        "\n",
        "for i in range(1,k):\n",
        "    X_new = rescaledX[:, 0:i]\n",
        "    acc1.append(knn_train(rescaledX, Y_train, 1, algo='auto'))\n",
        "    acc2.append(knn_train(rescaledX, Y_train, 3, algo='auto'))\n",
        "    acc3.append(knn_train(rescaledX, Y_train, 5, algo='auto'))\n",
        "    acc4.append(knn_train(rescaledX, Y_train, 7, algo='kd_tree'))\n",
        "    acc5.append(knn_train(rescaledX, Y_train, 10, algo='kd_tree'))\n",
        "    acc6.append(knn_train(rescaledX, Y_train, 15, algo='kd_tree'))\n",
        "\n",
        "print(f'acc max: {max(acc1)}, number of features: {acc1.index(max(acc1))} ')\n",
        "print(f'acc max: {max(acc2)}, number of features: {acc2.index(max(acc2))} ')\n",
        "print(f'acc max: {max(acc3)}, number of features: {acc3.index(max(acc3))} ')\n",
        "print(f'acc max: {max(acc4)}, number of features: {acc4.index(max(acc4))} ')\n",
        "print(f'acc max: {max(acc5)}, number of features: {acc5.index(max(acc5))} ')\n",
        "print(f'acc max: {max(acc6)}, number of features: {acc6.index(max(acc6))} ')"
      ]
    },
    {
      "cell_type": "code",
      "execution_count": null,
      "metadata": {
        "colab": {
          "base_uri": "https://localhost:8080/"
        },
        "id": "4JXzdyIdFRP9",
        "outputId": "2b6e20f9-6aae-464b-9b13-5c828263726f"
      },
      "outputs": [
        {
          "name": "stdout",
          "output_type": "stream",
          "text": [
            "acc max: 0.5060672514619883, number of features: 31 \n",
            "acc max: 0.5060672514619883, number of features: 31 \n",
            "acc max: 0.5060672514619883, number of features: 31 \n",
            "acc max: 0.49532163742690055, number of features: 4 \n",
            "acc max: 0.4816520467836258, number of features: 43 \n",
            "acc max: 0.4814327485380117, number of features: 4 \n",
            "acc max: 0.49532163742690055, number of features: 4 \n",
            "acc max: 0.4990131578947368, number of features: 31 \n",
            "acc max: 0.49561403508771934, number of features: 23 \n",
            "acc max: 0.49528508771929824, number of features: 4 \n",
            "acc max: 0.5024488304093567, number of features: 25 \n",
            "acc max: 0.495577485380117, number of features: 25 \n"
          ]
        }
      ],
      "source": [
        "acc1=[]\n",
        "acc2=[]\n",
        "acc3=[]\n",
        "acc4=[]\n",
        "acc5=[]\n",
        "acc6=[]\n",
        "acc7=[]\n",
        "acc8=[]\n",
        "acc9=[]\n",
        "acc10=[]\n",
        "acc11=[]\n",
        "acc12=[]\n",
        "\n",
        "for i in range(1,k):\n",
        "    X_new = rescaledX[:, 0:i]\n",
        "    acc1.append(hgbt_train(X_new, Y_train, maxiter=100, lr=0.1, max_d=100, l2_r=0))\n",
        "    acc2.append(hgbt_train(X_new, Y_train, maxiter=100, lr=0.1, max_d=200, l2_r=0))\n",
        "    acc3.append(hgbt_train(X_new, Y_train, maxiter=100, lr=0.1, max_d=50, l2_r=0))\n",
        "    acc4.append(hgbt_train(X_new, Y_train, maxiter=200, lr=0.1, max_d=100, l2_r=0))\n",
        "    acc5.append(hgbt_train(X_new, Y_train, maxiter=300, lr=0.1, max_d=100, l2_r=0))\n",
        "    acc6.append(hgbt_train(X_new, Y_train, maxiter=500, lr=0.1, max_d=100, l2_r=0))\n",
        "    acc7.append(hgbt_train(X_new, Y_train, maxiter=100, lr=0.2, max_d=100, l2_r=0))\n",
        "    acc8.append(hgbt_train(X_new, Y_train, maxiter=100, lr=0.05, max_d=100, l2_r=0))\n",
        "    acc9.append(hgbt_train(X_new, Y_train, maxiter=100, lr=0.5, max_d=100, l2_r=0))\n",
        "    acc10.append(hgbt_train(X_new, Y_train, maxiter=100, lr=0.1, max_d=100, l2_r=1))\n",
        "    acc11.append(hgbt_train(X_new, Y_train, maxiter=100, lr=0.1, max_d=100, l2_r=2))\n",
        "    acc12.append(hgbt_train(X_new, Y_train, maxiter=100, lr=0.1, max_d=100, l2_r=3))\n",
        "\n",
        "print(f'acc max: {max(acc1)}, number of features: {acc1.index(max(acc1))} ')\n",
        "print(f'acc max: {max(acc2)}, number of features: {acc2.index(max(acc2))} ')\n",
        "print(f'acc max: {max(acc3)}, number of features: {acc3.index(max(acc3))} ')\n",
        "print(f'acc max: {max(acc4)}, number of features: {acc4.index(max(acc4))} ')\n",
        "print(f'acc max: {max(acc5)}, number of features: {acc5.index(max(acc5))} ')\n",
        "print(f'acc max: {max(acc6)}, number of features: {acc6.index(max(acc6))} ')\n",
        "print(f'acc max: {max(acc7)}, number of features: {acc7.index(max(acc7))} ')\n",
        "print(f'acc max: {max(acc8)}, number of features: {acc8.index(max(acc8))} ')\n",
        "print(f'acc max: {max(acc9)}, number of features: {acc9.index(max(acc9))} ')\n",
        "print(f'acc max: {max(acc10)}, number of features: {acc10.index(max(acc10))} ')\n",
        "print(f'acc max: {max(acc11)}, number of features: {acc11.index(max(acc11))} ')\n",
        "print(f'acc max: {max(acc12)}, number of features: {acc12.index(max(acc12))} ')"
      ]
    },
    {
      "cell_type": "markdown",
      "metadata": {
        "id": "04hc2KVNImin"
      },
      "source": [
        "---------------------------------------------------------------------------------------------"
      ]
    },
    {
      "cell_type": "code",
      "execution_count": null,
      "metadata": {
        "colab": {
          "base_uri": "https://localhost:8080/"
        },
        "id": "SMERTCWLKSh3",
        "outputId": "cdfdeaa7-1915-424e-f24e-a3f028be1aff"
      },
      "outputs": [
        {
          "name": "stdout",
          "output_type": "stream",
          "text": [
            "acc max: 0.4224049707602339\n",
            "acc max: 0.3742324561403509\n",
            "acc max: 0.40559210526315786\n",
            "acc max: 0.4021929824561403\n",
            "acc max: 0.391812865497076\n",
            "acc max: 0.3572733918128655\n"
          ]
        }
      ],
      "source": [
        "acc1=knn_train(rescaledX, Y_train, 1, algo='auto')\n",
        "acc2=knn_train(rescaledX, Y_train, 3, algo='auto')\n",
        "acc3=knn_train(rescaledX, Y_train, 5, algo='auto')\n",
        "acc4=knn_train(rescaledX, Y_train, 7, algo='kd_tree')\n",
        "acc5=knn_train(rescaledX, Y_train, 10, algo='kd_tree')\n",
        "acc6=knn_train(rescaledX, Y_train, 15, algo='kd_tree')\n",
        "\n",
        "\n",
        "print(f'acc max: {(acc1)}')\n",
        "print(f'acc max: {(acc2)}')\n",
        "print(f'acc max: {(acc3)}')\n",
        "print(f'acc max: {(acc4)}')\n",
        "print(f'acc max: {(acc5)}')\n",
        "print(f'acc max: {(acc6)}')\n"
      ]
    },
    {
      "cell_type": "code",
      "execution_count": null,
      "metadata": {
        "colab": {
          "base_uri": "https://localhost:8080/"
        },
        "id": "CkI6KNTuNVxT",
        "outputId": "efbb74aa-ca07-4155-c3e0-7da4fc472b31"
      },
      "outputs": [
        {
          "name": "stdout",
          "output_type": "stream",
          "text": [
            "acc max: 0.44290935672514614\n",
            "acc max: 0.4574195906432748\n",
            "acc max: 0.45416666666666666\n",
            "acc max: 0.45423976608187133\n",
            "acc max: 0.4266812865497076\n",
            "acc max: 0.381798245614035\n",
            "acc max: 0.3611111111111111\n",
            "acc max: 0.3333333333333333\n",
            "acc max: 0.3333333333333333\n"
          ]
        }
      ],
      "source": [
        "acc1=svn_train(rescaledX, Y_train, gamma=0.1, C=10, kernel='rbf')\n",
        "acc2=svn_train(rescaledX, Y_train, gamma=1, C=10, kernel='rbf')\n",
        "acc3=svn_train(rescaledX, Y_train, gamma=2, C=10, kernel='rbf')\n",
        "acc4=svn_train(rescaledX, Y_train, gamma=3, C=10, kernel='rbf')\n",
        "acc5=svn_train(rescaledX, Y_train, gamma=5, C=10, kernel='rbf')\n",
        "acc6=svn_train(rescaledX, Y_train, gamma=10, C=10, kernel='rbf')\n",
        "acc7=svn_train(rescaledX, Y_train, gamma=15, C=10, kernel='rbf')\n",
        "acc8=svn_train(rescaledX, Y_train, gamma=20, C=10, kernel='rbf')\n",
        "acc9=svn_train(rescaledX, Y_train, gamma=25, C=10, kernel='rbf')\n",
        "\n",
        "print(f'acc max: {(acc1)}')\n",
        "print(f'acc max: {(acc2)}')\n",
        "print(f'acc max: {(acc3)}')\n",
        "print(f'acc max: {(acc4)}')\n",
        "print(f'acc max: {(acc5)}')\n",
        "print(f'acc max: {(acc6)}')\n",
        "print(f'acc max: {(acc7)}')\n",
        "print(f'acc max: {(acc8)}')\n",
        "print(f'acc max: {(acc9)}')"
      ]
    },
    {
      "cell_type": "code",
      "execution_count": null,
      "metadata": {
        "colab": {
          "base_uri": "https://localhost:8080/"
        },
        "id": "tjihNWw8N6kg",
        "outputId": "2e83074e-8520-401e-c957-1b3d86fb1d04"
      },
      "outputs": [
        {
          "name": "stdout",
          "output_type": "stream",
          "text": [
            "acc max: 0.3055555555555555\n",
            "acc max: 0.3387426900584795\n",
            "acc max: 0.4259868421052631\n",
            "acc max: 0.4574195906432748\n",
            "acc max: 0.45394736842105265\n",
            "acc max: 0.45394736842105265\n",
            "acc max: 0.45394736842105265\n",
            "acc max: 0.45394736842105265\n",
            "acc max: 0.45394736842105265\n"
          ]
        }
      ],
      "source": [
        "acc1=svn_train(rescaledX, Y_train, gamma=1, C=0.01, kernel='rbf')\n",
        "acc2=svn_train(rescaledX, Y_train, gamma=1, C=0.1, kernel='rbf')\n",
        "acc3=svn_train(rescaledX, Y_train, gamma=1, C=1, kernel='rbf')\n",
        "acc4=svn_train(rescaledX, Y_train, gamma=1, C=10, kernel='rbf')\n",
        "acc5=svn_train(rescaledX, Y_train, gamma=1, C=100, kernel='rbf')\n",
        "acc6=svn_train(rescaledX, Y_train, gamma=1, C=1000, kernel='rbf')\n",
        "acc7=svn_train(rescaledX, Y_train, gamma=1, C=1000, kernel='rbf')\n",
        "acc8=svn_train(rescaledX, Y_train, gamma=1, C=10000, kernel='rbf')\n",
        "acc9=svn_train(rescaledX, Y_train, gamma=1, C=100000, kernel='rbf')\n",
        "\n",
        "print(f'acc max: {(acc1)}')\n",
        "print(f'acc max: {(acc2)}')\n",
        "print(f'acc max: {(acc3)}')\n",
        "print(f'acc max: {(acc4)}')\n",
        "print(f'acc max: {(acc5)}')\n",
        "print(f'acc max: {(acc6)}')\n",
        "print(f'acc max: {(acc7)}')\n",
        "print(f'acc max: {(acc8)}')\n",
        "print(f'acc max: {(acc9)}')"
      ]
    },
    {
      "cell_type": "code",
      "execution_count": null,
      "metadata": {
        "colab": {
          "base_uri": "https://localhost:8080/"
        },
        "id": "uPq1qXNjOiFe",
        "outputId": "488f4c8a-fe74-433e-cedd-1e9ee302a7c5"
      },
      "outputs": [
        {
          "name": "stdout",
          "output_type": "stream",
          "text": [
            "acc max: 0.44722222222222224\n",
            "acc max: 0.45427631578947364\n",
            "acc max: 0.4785453216374269\n",
            "acc max: 0.45413011695906436\n",
            "acc max: 0.4891447368421053\n",
            "acc max: 0.5029970760233918\n"
          ]
        }
      ],
      "source": [
        "acc1=rf_train(rescaledX, Y_train, clw = 'balanced', crit='gini', mf='sqrt')\n",
        "acc2=rf_train(rescaledX, Y_train, clw = 'balanced', crit='gini', mf='log2')\n",
        "acc3=rf_train(rescaledX, Y_train, clw = 'balanced', crit='entropy', mf='sqrt')\n",
        "acc4=rf_train(rescaledX, Y_train, clw = 'balanced', crit='entropy', mf='log2')\n",
        "acc5=rf_train(rescaledX, Y_train, clw ='balanced', crit='log_loss', mf='sqrt')\n",
        "acc6=rf_train(rescaledX, Y_train, clw = 'balanced', crit='log_loss', mf='log2')\n",
        "\n",
        "print(f'acc max: {(acc1)}')\n",
        "print(f'acc max: {(acc2)}')\n",
        "print(f'acc max: {(acc3)}')\n",
        "print(f'acc max: {(acc4)}')\n",
        "print(f'acc max: {(acc5)}')\n",
        "print(f'acc max: {(acc6)}')"
      ]
    },
    {
      "cell_type": "code",
      "execution_count": null,
      "metadata": {
        "colab": {
          "base_uri": "https://localhost:8080/"
        },
        "id": "U9SKO9PSUO3w",
        "outputId": "ecb82f89-4dfa-45d1-a7e8-f459b62c1f8d"
      },
      "outputs": [
        {
          "name": "stdout",
          "output_type": "stream",
          "text": [
            "acc max: 0.4467470760233918\n",
            "acc max: 0.4467470760233918\n",
            "acc max: 0.4467470760233918\n",
            "acc max: 0.4607456140350877\n",
            "acc max: 0.4502558479532164\n",
            "acc max: 0.4607090643274854\n",
            "acc max: 0.43282163742690055\n",
            "acc max: 0.4501827485380117\n",
            "acc max: 0.4502558479532164\n",
            "acc max: 0.42587719298245613\n",
            "acc max: 0.44323830409356724\n",
            "acc max: 0.4467836257309941\n"
          ]
        }
      ],
      "source": [
        "acc1=hgbt_train(rescaledX, Y_train, maxiter=100, lr=0.1, max_d=100, l2_r=0)\n",
        "acc2=hgbt_train(rescaledX, Y_train, maxiter=100, lr=0.1, max_d=200, l2_r=0)\n",
        "acc3=hgbt_train(rescaledX, Y_train, maxiter=100, lr=0.1, max_d=50, l2_r=0)\n",
        "acc4=hgbt_train(rescaledX, Y_train, maxiter=200, lr=0.1, max_d=100, l2_r=0)\n",
        "acc5=hgbt_train(rescaledX, Y_train, maxiter=300, lr=0.1, max_d=100, l2_r=0)\n",
        "acc6=hgbt_train(rescaledX, Y_train, maxiter=500, lr=0.1, max_d=100, l2_r=0)\n",
        "acc7=hgbt_train(rescaledX, Y_train, maxiter=100, lr=0.2, max_d=100, l2_r=0)\n",
        "acc8=hgbt_train(rescaledX, Y_train, maxiter=100, lr=0.05, max_d=100, l2_r=0)\n",
        "acc9=hgbt_train(rescaledX, Y_train, maxiter=100, lr=0.5, max_d=100, l2_r=0)\n",
        "acc10=hgbt_train(rescaledX, Y_train, maxiter=100, lr=0.1, max_d=100, l2_r=1)\n",
        "acc11=hgbt_train(rescaledX, Y_train, maxiter=100, lr=0.1, max_d=100, l2_r=2)\n",
        "acc12=hgbt_train(rescaledX, Y_train, maxiter=100, lr=0.1, max_d=100, l2_r=3)\n",
        "\n",
        "print(f'acc max: {(acc1)}')\n",
        "print(f'acc max: {(acc2)}')\n",
        "print(f'acc max: {(acc3)}')\n",
        "print(f'acc max: {(acc4)}')\n",
        "print(f'acc max: {(acc5)}')\n",
        "print(f'acc max: {(acc6)}')\n",
        "print(f'acc max: {(acc7)}')\n",
        "print(f'acc max: {(acc8)}')\n",
        "print(f'acc max: {(acc9)}')\n",
        "print(f'acc max: {(acc10)}')\n",
        "print(f'acc max: {(acc11)}')\n",
        "print(f'acc max: {(acc12)}')"
      ]
    }
  ],
  "metadata": {
    "accelerator": "GPU",
    "colab": {
      "collapsed_sections": [
        "CZUflU1YD-57"
      ],
      "provenance": [],
      "mount_file_id": "1AnRCxXgsukswrX7jk3ljaq7DggGVH_fO",
      "authorship_tag": "ABX9TyOmuTeaquBrCBSn+T09OWSX",
      "include_colab_link": true
    },
    "kernelspec": {
      "display_name": "Python 3",
      "name": "python3"
    },
    "language_info": {
      "name": "python"
    }
  },
  "nbformat": 4,
  "nbformat_minor": 0
}