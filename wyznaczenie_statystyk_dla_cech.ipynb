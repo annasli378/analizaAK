{
  "nbformat": 4,
  "nbformat_minor": 0,
  "metadata": {
    "colab": {
      "provenance": [],
      "mount_file_id": "1jhLVMYKKXQUhfJKKLcSnVQR4L--yH0lV",
      "authorship_tag": "ABX9TyMpgbpdF9Mmgzd8wxQk7T2F",
      "include_colab_link": true
    },
    "kernelspec": {
      "name": "python3",
      "display_name": "Python 3"
    },
    "language_info": {
      "name": "python"
    }
  },
  "cells": [
    {
      "cell_type": "markdown",
      "metadata": {
        "id": "view-in-github",
        "colab_type": "text"
      },
      "source": [
        "<a href=\"https://colab.research.google.com/github/annasli378/analizaAK/blob/main/wyznaczenie_statystyk_dla_cech.ipynb\" target=\"_parent\"><img src=\"https://colab.research.google.com/assets/colab-badge.svg\" alt=\"Open In Colab\"/></a>"
      ]
    },
    {
      "cell_type": "markdown",
      "source": [
        "Importy\n"
      ],
      "metadata": {
        "id": "4OMCvkMvoVbs"
      }
    },
    {
      "cell_type": "code",
      "source": [
        "import pandas as pd\n",
        "import numpy as np\n",
        "from scipy.stats import shapiro, f_oneway, tukey_hsd, levene\n",
        "import matplotlib.pyplot as plt"
      ],
      "metadata": {
        "id": "S-7O5koEZ_SC"
      },
      "execution_count": null,
      "outputs": []
    },
    {
      "cell_type": "markdown",
      "source": [
        "Wczytanie i podział danych"
      ],
      "metadata": {
        "id": "mJE2i7R-VvKM"
      }
    },
    {
      "cell_type": "code",
      "execution_count": null,
      "metadata": {
        "id": "y6ljhriEZJ3H"
      },
      "outputs": [],
      "source": [
        "# Wczytanie danych z plików CSV\n",
        "CECHY = pd.read_csv('/content/drive/MyDrive/USG/cechy_nowe/CECHY_TEKSTURA_SLEB_TEXT.csv')\n",
        "column_names = list(CECHY.columns)\n",
        "CECHY = CECHY.values\n",
        "Y = pd.read_csv('/content/drive/MyDrive/USG/cechy_nowe/Y_alfabetycznie.csv', header = None).values\n",
        "\n",
        "# Określenie wymiarów macierzy danych\n",
        "w,k = CECHY.shape\n",
        "\n",
        "# Inicjalizacja pustych list dla grup\n",
        "ak1, ak2, ak3 = np.zeros((95,k)), np.zeros((48,k)), np.zeros((32,k))\n",
        "c1, c2, c3 = 0, 0 ,0\n",
        "\n",
        "# Podział danych na trzy grupy na podstawie Y\n",
        "for wiersz in range(0,175):\n",
        "    if Y[wiersz] == 1:\n",
        "        ak1[c1, :] = CECHY[wiersz, :]\n",
        "        c1+=1\n",
        "    elif Y[wiersz] == 2:\n",
        "        ak2[c2, :] = CECHY[wiersz, :]\n",
        "        c2+=1\n",
        "    elif Y[wiersz] == 3:\n",
        "        ak3[c3, :] = CECHY[wiersz, :]\n",
        "        c3+=1\n"
      ]
    },
    {
      "cell_type": "code",
      "source": [
        "column_names"
      ],
      "metadata": {
        "id": "rrLcFe3eYjXY"
      },
      "execution_count": null,
      "outputs": []
    },
    {
      "cell_type": "markdown",
      "source": [
        "Funckje"
      ],
      "metadata": {
        "id": "DHaWWXaTVyra"
      }
    },
    {
      "cell_type": "code",
      "source": [
        "# Funkcja sprawdzająca normalność rozkładu danych za pomocą testu Shapiro-Wilka\n",
        "def normality(Group1, Group2, Group3):\n",
        "    print('Shapiro-Wilk Test p-values:')\n",
        "    print(shapiro(Group1))\n",
        "    print(shapiro(Group2))\n",
        "    print(shapiro(Group3))\n",
        "    return [shapiro(Group1).pvalue , shapiro(Group2).pvalue, shapiro(Group3).pvalue]"
      ],
      "metadata": {
        "id": "3Dg7skaTVuT7"
      },
      "execution_count": null,
      "outputs": []
    },
    {
      "cell_type": "code",
      "source": [
        "# Funkcja sprawdzająca równość wariancji za pomocą testu Levene'a\n",
        "def varin(Group1, Group2, Group3):\n",
        "  return levene(Group1, Group2, Group3, center='median')"
      ],
      "metadata": {
        "id": "KZC6uCMBevZU"
      },
      "execution_count": null,
      "outputs": []
    },
    {
      "cell_type": "code",
      "source": [
        "# Funkcja przeprowadzająca analizę wariancji (ANOVA) i wyświetlająca wyniki\n",
        "def get_anova(Group1, Group2, Group3):\n",
        "  alpha_anova =0.05\n",
        "  #data = [Group1, Group2, Group3]\n",
        "  f_val, p_val = f_oneway(Group1, Group2, Group3)\n",
        "  if p_val < alpha_anova:\n",
        "        print(f'One-Way ANOVA: There is a significant difference between groups (p = {round(p_val, 4)}).')\n",
        "  else:\n",
        "        print(f'One-Way ANOVA: No significant difference between groups (p = {round(p_val, 4)}).')\n",
        "  return p_val\n",
        "\n"
      ],
      "metadata": {
        "id": "zgcwrg6Vbqo5"
      },
      "execution_count": null,
      "outputs": []
    },
    {
      "cell_type": "code",
      "source": [
        "# Funkcja przeprowadzająca test Tukeya HSD i wyświetlająca wyniki\n",
        "def get_tukey(Group1, Group2, Group3):\n",
        "  tukey = tukey_hsd(Group1, Group2, Group3)\n",
        "  print(tukey)\n",
        "\n",
        "  return tukey.pvalue"
      ],
      "metadata": {
        "id": "dS_bFj2ycrt3"
      },
      "execution_count": null,
      "outputs": []
    },
    {
      "cell_type": "markdown",
      "source": [
        "analiza"
      ],
      "metadata": {
        "id": "yu4rr8o5bPa7"
      }
    },
    {
      "cell_type": "code",
      "source": [
        "# Inicjalizacja tablic na wyniki\n",
        "wyniki_nom = np.zeros((k,5))\n",
        "roznice_grupy = np.zeros((k,3))"
      ],
      "metadata": {
        "id": "ToIcn8ird5dR"
      },
      "execution_count": null,
      "outputs": []
    },
    {
      "cell_type": "code",
      "source": [
        "# Analiza dla każdej cechy\n",
        "for i in range(0,k):\n",
        "    ft_name = column_names[i]\n",
        "    Group1, Group2, Group3 = ak1[:,i], ak2[:,i], ak3[:,i]\n",
        "    wyniki_nom[i,0:3] = normality(Group1, Group2, Group3)\n",
        "\n",
        "    wyniki_nom[i,3] = varin(Group1, Group2, Group3).pvalue\n",
        "\n",
        "    p_anova = get_anova(Group1, Group2, Group3)\n",
        "    wyniki_nom[i,4] = p_anova\n",
        "\n",
        "    # Jeśli istnieje istotna różnica, generuj wykres pudełkowy i przeprowadź test Tukeya HSD\n",
        "    if p_anova < 0.05:\n",
        "        fig, ax = plt.subplots(1, 1)\n",
        "        ax.boxplot([Group1, Group2, Group3])\n",
        "        ax.set_xticklabels([\"AK 1\", \"AK 2\", \"AK 3\"])\n",
        "        ax.set_ylabel(\"mean\")\n",
        "        ax.set_title(ft_name)\n",
        "        plt.show()\n",
        "        p_tukey = get_tukey(Group1, Group2, Group3)\n",
        "        roznice_grupy[i,0] = p_tukey[0,1] # grupa 1 vs 2\n",
        "        roznice_grupy[i,1] = p_tukey[0,2] # grupa 1 vs 3\n",
        "        roznice_grupy[i,2] = p_tukey[1,2] # grupa 2 vs 3\n",
        "\n",
        "# Zapis wyników do plików CSV\n",
        "df = pd.DataFrame(wyniki_nom)\n",
        "df.to_csv('res.csv', index=False)\n",
        "df = pd.DataFrame(roznice_grupy)\n",
        "df.to_csv('roznice_grupy.csv', index=False)"
      ],
      "metadata": {
        "id": "1MsNjLwMaYgu",
        "colab": {
          "base_uri": "https://localhost:8080/",
          "height": 1000
        },
        "outputId": "646b36be-724d-41ad-bc3e-2d9962e12795"
      },
      "execution_count": null,
      "outputs": [
        {
          "output_type": "stream",
          "name": "stdout",
          "text": [
            "Shapiro-Wilk Test p-values:\n",
            "ShapiroResult(statistic=0.9422624707221985, pvalue=0.00038940488593652844)\n",
            "ShapiroResult(statistic=0.909513533115387, pvalue=0.0012941547902300954)\n",
            "ShapiroResult(statistic=0.9179979562759399, pvalue=0.018353378400206566)\n",
            "One-Way ANOVA: No significant difference between groups (p = 0.0864).\n",
            "Shapiro-Wilk Test p-values:\n",
            "ShapiroResult(statistic=0.9385294914245605, pvalue=0.00023367094399873167)\n",
            "ShapiroResult(statistic=0.925649881362915, pvalue=0.004730221349745989)\n",
            "ShapiroResult(statistic=0.9280479550361633, pvalue=0.034563567489385605)\n",
            "One-Way ANOVA: No significant difference between groups (p = 0.2274).\n",
            "Shapiro-Wilk Test p-values:\n",
            "ShapiroResult(statistic=0.96366286277771, pvalue=0.009749455377459526)\n",
            "ShapiroResult(statistic=0.9491552710533142, pvalue=0.03701049089431763)\n",
            "ShapiroResult(statistic=0.9407513737678528, pvalue=0.0786350667476654)\n",
            "One-Way ANOVA: No significant difference between groups (p = 0.208).\n",
            "Shapiro-Wilk Test p-values:\n",
            "ShapiroResult(statistic=0.9585698246955872, pvalue=0.0043195150792598724)\n",
            "ShapiroResult(statistic=0.9362576603889465, pvalue=0.01168130710721016)\n",
            "ShapiroResult(statistic=0.9312166571617126, pvalue=0.042345866560935974)\n",
            "One-Way ANOVA: No significant difference between groups (p = 0.1129).\n",
            "Shapiro-Wilk Test p-values:\n",
            "ShapiroResult(statistic=0.41606831550598145, pvalue=1.1374573838106484e-17)\n",
            "ShapiroResult(statistic=0.4399786591529846, pvalue=2.7747188227622566e-12)\n",
            "ShapiroResult(statistic=0.9716427326202393, pvalue=0.5459343791007996)\n",
            "One-Way ANOVA: No significant difference between groups (p = 0.1155).\n",
            "Shapiro-Wilk Test p-values:\n",
            "ShapiroResult(statistic=0.5486130714416504, pvalue=1.2943511525784148e-15)\n",
            "ShapiroResult(statistic=0.6075605154037476, pvalue=4.278346010799794e-10)\n",
            "ShapiroResult(statistic=0.9589560031890869, pvalue=0.2571291923522949)\n",
            "One-Way ANOVA: No significant difference between groups (p = 0.1698).\n",
            "Shapiro-Wilk Test p-values:\n",
            "ShapiroResult(statistic=0.5262162685394287, pvalue=5.44403745309863e-16)\n",
            "ShapiroResult(statistic=0.5501657128334045, pvalue=6.609214564523569e-11)\n",
            "ShapiroResult(statistic=0.9410718679428101, pvalue=0.08030061423778534)\n",
            "One-Way ANOVA: No significant difference between groups (p = 0.3895).\n",
            "Shapiro-Wilk Test p-values:\n",
            "ShapiroResult(statistic=0.5404986143112183, pvalue=9.423982692032939e-16)\n",
            "ShapiroResult(statistic=0.5439593195915222, pvalue=5.454340798460855e-11)\n",
            "ShapiroResult(statistic=0.9125872850418091, pvalue=0.01315314881503582)\n",
            "One-Way ANOVA: No significant difference between groups (p = 0.1568).\n",
            "Shapiro-Wilk Test p-values:\n",
            "ShapiroResult(statistic=0.40375077724456787, pvalue=7.640705368460494e-18)\n",
            "ShapiroResult(statistic=0.4080055356025696, pvalue=1.2011248115909035e-12)\n",
            "ShapiroResult(statistic=0.9615489840507507, pvalue=0.3026675879955292)\n",
            "One-Way ANOVA: No significant difference between groups (p = 0.3796).\n",
            "Shapiro-Wilk Test p-values:\n",
            "ShapiroResult(statistic=0.4065197706222534, pvalue=8.351111239578186e-18)\n",
            "ShapiroResult(statistic=0.4140288829803467, pvalue=1.4028534193674669e-12)\n",
            "ShapiroResult(statistic=0.9631528854370117, pvalue=0.33421948552131653)\n",
            "One-Way ANOVA: No significant difference between groups (p = 0.3842).\n",
            "Shapiro-Wilk Test p-values:\n",
            "ShapiroResult(statistic=0.40510785579681396, pvalue=7.980656747885087e-18)\n",
            "ShapiroResult(statistic=0.4112245440483093, pvalue=1.304847072405857e-12)\n",
            "ShapiroResult(statistic=0.9623149633407593, pvalue=0.3174038231372833)\n",
            "One-Way ANOVA: No significant difference between groups (p = 0.381).\n",
            "Shapiro-Wilk Test p-values:\n",
            "ShapiroResult(statistic=0.40599387884140015, pvalue=8.211122501432162e-18)\n",
            "ShapiroResult(statistic=0.4116193652153015, pvalue=1.3182004316228402e-12)\n",
            "ShapiroResult(statistic=0.9628820419311523, pvalue=0.32870426774024963)\n",
            "One-Way ANOVA: No significant difference between groups (p = 0.3767).\n",
            "Shapiro-Wilk Test p-values:\n",
            "ShapiroResult(statistic=0.2776273488998413, pvalue=1.7860501880820873e-19)\n",
            "ShapiroResult(statistic=0.19410628080368042, pvalue=8.933194861734852e-15)\n",
            "ShapiroResult(statistic=0.9484037160873413, pvalue=0.12982535362243652)\n",
            "One-Way ANOVA: No significant difference between groups (p = 0.2815).\n",
            "Shapiro-Wilk Test p-values:\n",
            "ShapiroResult(statistic=0.28038012981414795, pvalue=1.9279726677051073e-19)\n",
            "ShapiroResult(statistic=0.19927167892456055, pvalue=9.937040712580236e-15)\n",
            "ShapiroResult(statistic=0.9618349671363831, pvalue=0.3080991506576538)\n",
            "One-Way ANOVA: No significant difference between groups (p = 0.2855).\n",
            "Shapiro-Wilk Test p-values:\n",
            "ShapiroResult(statistic=0.27524685859680176, pvalue=1.6720460881084977e-19)\n",
            "ShapiroResult(statistic=0.19133204221725464, pvalue=8.438306544939107e-15)\n",
            "ShapiroResult(statistic=0.9524917602539062, pvalue=0.16957345604896545)\n",
            "One-Way ANOVA: No significant difference between groups (p = 0.2815).\n",
            "Shapiro-Wilk Test p-values:\n",
            "ShapiroResult(statistic=0.28022950887680054, pvalue=1.9199187719721965e-19)\n",
            "ShapiroResult(statistic=0.19818603992462158, pvalue=9.716691867615607e-15)\n",
            "ShapiroResult(statistic=0.9600066542625427, pvalue=0.27479061484336853)\n",
            "One-Way ANOVA: No significant difference between groups (p = 0.2805).\n",
            "Shapiro-Wilk Test p-values:\n",
            "ShapiroResult(statistic=0.9242075681686401, pvalue=3.714350896188989e-05)\n",
            "ShapiroResult(statistic=0.8718355298042297, pvalue=8.721500489627942e-05)\n",
            "ShapiroResult(statistic=0.9070380330085754, pvalue=0.009400948882102966)\n",
            "One-Way ANOVA: No significant difference between groups (p = 0.1307).\n",
            "Shapiro-Wilk Test p-values:\n",
            "ShapiroResult(statistic=0.9398258924484253, pvalue=0.0002785774413496256)\n",
            "ShapiroResult(statistic=0.9237003326416016, pvalue=0.004024388734251261)\n",
            "ShapiroResult(statistic=0.9276729822158813, pvalue=0.03374634310603142)\n",
            "One-Way ANOVA: No significant difference between groups (p = 0.2576).\n",
            "Shapiro-Wilk Test p-values:\n",
            "ShapiroResult(statistic=0.9515214562416077, pvalue=0.0014717846643179655)\n",
            "ShapiroResult(statistic=0.9308093190193176, pvalue=0.007304242346435785)\n",
            "ShapiroResult(statistic=0.9211334586143494, pvalue=0.022317687049508095)\n",
            "One-Way ANOVA: No significant difference between groups (p = 0.1748).\n",
            "Shapiro-Wilk Test p-values:\n",
            "ShapiroResult(statistic=0.9472697973251343, pvalue=0.0007901006028987467)\n",
            "ShapiroResult(statistic=0.9246771931648254, pvalue=0.004363054409623146)\n",
            "ShapiroResult(statistic=0.9226471781730652, pvalue=0.0245431587100029)\n",
            "One-Way ANOVA: No significant difference between groups (p = 0.1381).\n",
            "Shapiro-Wilk Test p-values:\n",
            "ShapiroResult(statistic=0.5132676362991333, pvalue=3.3447192328880503e-16)\n",
            "ShapiroResult(statistic=0.642379879951477, pvalue=1.455202292000024e-09)\n",
            "ShapiroResult(statistic=0.9791039228439331, pvalue=0.7731452584266663)\n",
            "One-Way ANOVA: There is a significant difference between groups (p = 0.0452).\n"
          ]
        },
        {
          "output_type": "display_data",
          "data": {
            "text/plain": [
              "<Figure size 640x480 with 1 Axes>"
            ],
            "image/png": "[encoded data removed]"
          },
          "metadata": {}
        },
        {
          "output_type": "stream",
          "name": "stdout",
          "text": [
            "Tukey's HSD Pairwise Group Comparisons (95.0% Confidence Interval)\n",
            "Comparison  Statistic  p-value  Lower CI  Upper CI\n",
            " (0 - 1)     -0.031     0.355    -0.084     0.022\n",
            " (0 - 2)     -0.062     0.045    -0.123    -0.001\n",
            " (1 - 0)      0.031     0.355    -0.022     0.084\n",
            " (1 - 2)     -0.031     0.522    -0.100     0.037\n",
            " (2 - 0)      0.062     0.045     0.001     0.123\n",
            " (2 - 1)      0.031     0.522    -0.037     0.100\n",
            "\n",
            "Shapiro-Wilk Test p-values:\n",
            "ShapiroResult(statistic=0.6799068450927734, pvalue=4.37229652440127e-13)\n",
            "ShapiroResult(statistic=0.7613912224769592, pvalue=1.9304395948438469e-07)\n",
            "ShapiroResult(statistic=0.96241694688797, pvalue=0.3194112181663513)\n",
            "One-Way ANOVA: No significant difference between groups (p = 0.1608).\n",
            "Shapiro-Wilk Test p-values:\n",
            "ShapiroResult(statistic=0.6737422943115234, pvalue=3.2125113658652837e-13)\n",
            "ShapiroResult(statistic=0.7081456184387207, pvalue=1.8539008550533254e-08)\n",
            "ShapiroResult(statistic=0.948498547077179, pvalue=0.13063403964042664)\n",
            "One-Way ANOVA: No significant difference between groups (p = 0.3155).\n",
            "Shapiro-Wilk Test p-values:\n",
            "ShapiroResult(statistic=0.6759328842163086, pvalue=3.5826994582849325e-13)\n",
            "ShapiroResult(statistic=0.7136595249176025, pvalue=2.332160775608827e-08)\n",
            "ShapiroResult(statistic=0.9639452695846558, pvalue=0.3508007228374481)\n",
            "One-Way ANOVA: No significant difference between groups (p = 0.139).\n",
            "Shapiro-Wilk Test p-values:\n",
            "ShapiroResult(statistic=0.40656447410583496, pvalue=8.363146717490832e-18)\n",
            "ShapiroResult(statistic=0.4115145206451416, pvalue=1.3146450074386085e-12)\n",
            "ShapiroResult(statistic=0.9632694125175476, pvalue=0.336616188287735)\n",
            "One-Way ANOVA: No significant difference between groups (p = 0.377).\n",
            "Shapiro-Wilk Test p-values:\n",
            "ShapiroResult(statistic=0.4123740792274475, pvalue=1.0088533805893753e-17)\n",
            "ShapiroResult(statistic=0.4245266318321228, pvalue=1.8437560506123774e-12)\n",
            "ShapiroResult(statistic=0.9664666652679443, pvalue=0.4080146551132202)\n",
            "One-Way ANOVA: No significant difference between groups (p = 0.3869).\n",
            "Shapiro-Wilk Test p-values:\n",
            "ShapiroResult(statistic=0.40955865383148193, pvalue=9.21033434751968e-18)\n",
            "ShapiroResult(statistic=0.4185900092124939, pvalue=1.5790505838650382e-12)\n",
            "ShapiroResult(statistic=0.9654250144958496, pvalue=0.3835533559322357)\n",
            "One-Way ANOVA: No significant difference between groups (p = 0.3802).\n",
            "Shapiro-Wilk Test p-values:\n",
            "ShapiroResult(statistic=0.41113394498825073, pvalue=9.691410184071333e-18)\n",
            "ShapiroResult(statistic=0.41889679431915283, pvalue=1.59170495794142e-12)\n",
            "ShapiroResult(statistic=0.9666162729263306, pvalue=0.4116227626800537)\n",
            "One-Way ANOVA: No significant difference between groups (p = 0.3714).\n",
            "Shapiro-Wilk Test p-values:\n",
            "ShapiroResult(statistic=0.28278565406799316, pvalue=2.0615744858476682e-19)\n",
            "ShapiroResult(statistic=0.2020484209060669, pvalue=1.0524709630286427e-14)\n",
            "ShapiroResult(statistic=0.9626831412315369, pvalue=0.3247023820877075)\n",
            "One-Way ANOVA: No significant difference between groups (p = 0.2828).\n",
            "Shapiro-Wilk Test p-values:\n",
            "ShapiroResult(statistic=0.2858468294143677, pvalue=2.2456648236410516e-19)\n",
            "ShapiroResult(statistic=0.20839852094650269, pvalue=1.2009196703754738e-14)\n",
            "ShapiroResult(statistic=0.976673424243927, pvalue=0.6987532377243042)\n",
            "One-Way ANOVA: No significant difference between groups (p = 0.2923).\n",
            "Shapiro-Wilk Test p-values:\n",
            "ShapiroResult(statistic=0.28199172019958496, pvalue=2.0164486815056035e-19)\n",
            "ShapiroResult(statistic=0.20173555612564087, pvalue=1.0456719142643272e-14)\n",
            "ShapiroResult(statistic=0.9648730754852295, pvalue=0.3710635304450989)\n",
            "One-Way ANOVA: No significant difference between groups (p = 0.2827).\n",
            "Shapiro-Wilk Test p-values:\n",
            "ShapiroResult(statistic=0.28566157817840576, pvalue=2.2340478474195686e-19)\n",
            "ShapiroResult(statistic=0.20716911554336548, pvalue=1.170559129633859e-14)\n",
            "ShapiroResult(statistic=0.9736008048057556, pvalue=0.6040840744972229)\n",
            "One-Way ANOVA: No significant difference between groups (p = 0.2833).\n",
            "Shapiro-Wilk Test p-values:\n",
            "ShapiroResult(statistic=0.9269917011260986, pvalue=5.2372048230608925e-05)\n",
            "ShapiroResult(statistic=0.8967899084091187, pvalue=0.0004961017402820289)\n",
            "ShapiroResult(statistic=0.9339061975479126, pvalue=0.05036924034357071)\n",
            "One-Way ANOVA: No significant difference between groups (p = 0.1964).\n",
            "Shapiro-Wilk Test p-values:\n",
            "ShapiroResult(statistic=0.9493997097015381, pvalue=0.001076302258297801)\n",
            "ShapiroResult(statistic=0.925726592540741, pvalue=0.0047605340369045734)\n",
            "ShapiroResult(statistic=0.9311457276344299, pvalue=0.042153242975473404)\n",
            "One-Way ANOVA: No significant difference between groups (p = 0.2409).\n",
            "Shapiro-Wilk Test p-values:\n",
            "ShapiroResult(statistic=0.9539327621459961, pvalue=0.0021134791895747185)\n",
            "ShapiroResult(statistic=0.9398607015609741, pvalue=0.016029952093958855)\n",
            "ShapiroResult(statistic=0.9346227645874023, pvalue=0.052760735154151917)\n",
            "One-Way ANOVA: No significant difference between groups (p = 0.1713).\n",
            "Shapiro-Wilk Test p-values:\n",
            "ShapiroResult(statistic=0.9522504806518555, pvalue=0.0016407982911914587)\n",
            "ShapiroResult(statistic=0.9430607557296753, pvalue=0.021314086392521858)\n",
            "ShapiroResult(statistic=0.9314576387405396, pvalue=0.04300772026181221)\n",
            "One-Way ANOVA: No significant difference between groups (p = 0.1463).\n",
            "Shapiro-Wilk Test p-values:\n",
            "ShapiroResult(statistic=0.6220383644104004, pvalue=2.8117917675739464e-14)\n",
            "ShapiroResult(statistic=0.716539204120636, pvalue=2.63207837747359e-08)\n",
            "ShapiroResult(statistic=0.9829732179641724, pvalue=0.8798732757568359)\n",
            "One-Way ANOVA: No significant difference between groups (p = 0.1083).\n",
            "Shapiro-Wilk Test p-values:\n",
            "ShapiroResult(statistic=0.8683895468711853, pvalue=1.092425776505479e-07)\n",
            "ShapiroResult(statistic=0.8925721645355225, pvalue=0.0003651557781267911)\n",
            "ShapiroResult(statistic=0.967293918132782, pvalue=0.4282624125480652)\n",
            "One-Way ANOVA: No significant difference between groups (p = 0.8129).\n",
            "Shapiro-Wilk Test p-values:\n",
            "ShapiroResult(statistic=0.7873934507369995, pvalue=2.1351519163825827e-10)\n",
            "ShapiroResult(statistic=0.8392414450645447, pvalue=1.1402240488678217e-05)\n",
            "ShapiroResult(statistic=0.9530200362205505, pvalue=0.17550347745418549)\n",
            "One-Way ANOVA: No significant difference between groups (p = 0.547).\n",
            "Shapiro-Wilk Test p-values:\n",
            "ShapiroResult(statistic=0.8345378637313843, pvalue=6.380711514708537e-09)\n",
            "ShapiroResult(statistic=0.8775885701179504, pvalue=0.0001282289158552885)\n",
            "ShapiroResult(statistic=0.9527350664138794, pvalue=0.1722804456949234)\n",
            "One-Way ANOVA: No significant difference between groups (p = 0.2855).\n",
            "Shapiro-Wilk Test p-values:\n",
            "ShapiroResult(statistic=0.41153836250305176, pvalue=9.819029263337239e-18)\n",
            "ShapiroResult(statistic=0.4180048108100891, pvalue=1.555207243368606e-12)\n",
            "ShapiroResult(statistic=0.9651981592178345, pvalue=0.37838101387023926)\n",
            "One-Way ANOVA: No significant difference between groups (p = 0.3728).\n",
            "Shapiro-Wilk Test p-values:\n",
            "ShapiroResult(statistic=0.42480844259262085, pvalue=1.5142732252865248e-17)\n",
            "ShapiroResult(statistic=0.44700342416763306, pvalue=3.3501274671055015e-12)\n",
            "ShapiroResult(statistic=0.9745750427246094, pvalue=0.6338233351707458)\n",
            "One-Way ANOVA: No significant difference between groups (p = 0.3955).\n",
            "Shapiro-Wilk Test p-values:\n",
            "ShapiroResult(statistic=0.4189265966415405, pvalue=1.2485954683978644e-17)\n",
            "ShapiroResult(statistic=0.43357861042022705, pvalue=2.3403564242824304e-12)\n",
            "ShapiroResult(statistic=0.9702025651931763, pvalue=0.5050087571144104)\n",
            "One-Way ANOVA: No significant difference between groups (p = 0.3803).\n",
            "Shapiro-Wilk Test p-values:\n",
            "ShapiroResult(statistic=0.42211562395095825, pvalue=1.3860143218168088e-17)\n",
            "ShapiroResult(statistic=0.4333011507987976, pvalue=2.323217573180214e-12)\n",
            "ShapiroResult(statistic=0.9714835286140442, pvalue=0.5413269996643066)\n",
            "One-Way ANOVA: No significant difference between groups (p = 0.3616).\n",
            "Shapiro-Wilk Test p-values:\n",
            "ShapiroResult(statistic=0.2863439917564392, pvalue=2.2771250872758575e-19)\n",
            "ShapiroResult(statistic=0.2083384394645691, pvalue=1.1994197444324759e-14)\n",
            "ShapiroResult(statistic=0.9708600044250488, pvalue=0.5234726667404175)\n",
            "One-Way ANOVA: No significant difference between groups (p = 0.2875).\n",
            "Shapiro-Wilk Test p-values:\n",
            "ShapiroResult(statistic=0.2929069995880127, pvalue=2.738190132340145e-19)\n",
            "ShapiroResult(statistic=0.22106695175170898, pvalue=1.566196445538376e-14)\n",
            "ShapiroResult(statistic=0.9839719533920288, pvalue=0.9031724333763123)\n",
            "One-Way ANOVA: No significant difference between groups (p = 0.3051).\n",
            "Shapiro-Wilk Test p-values:\n",
            "ShapiroResult(statistic=0.2880481481552124, pvalue=2.388513228562248e-19)\n",
            "ShapiroResult(statistic=0.21158695220947266, pvalue=1.2835508684020357e-14)\n",
            "ShapiroResult(statistic=0.9787176847457886, pvalue=0.7615253925323486)\n",
            "One-Way ANOVA: No significant difference between groups (p = 0.2916).\n",
            "Shapiro-Wilk Test p-values:\n",
            "ShapiroResult(statistic=0.2928958535194397, pvalue=2.737319524745433e-19)\n",
            "ShapiroResult(statistic=0.21732085943222046, pvalue=1.4474410710806074e-14)\n",
            "ShapiroResult(statistic=0.9808242321014404, pvalue=0.823191225528717)\n",
            "One-Way ANOVA: No significant difference between groups (p = 0.2877).\n",
            "Shapiro-Wilk Test p-values:\n",
            "ShapiroResult(statistic=0.9661564826965332, pvalue=0.014681192114949226)\n",
            "ShapiroResult(statistic=0.9504724144935608, pvalue=0.04175762087106705)\n",
            "ShapiroResult(statistic=0.9405573010444641, pvalue=0.07764358073472977)\n",
            "One-Way ANOVA: No significant difference between groups (p = 0.9858).\n",
            "Shapiro-Wilk Test p-values:\n",
            "ShapiroResult(statistic=0.9484148025512695, pvalue=0.0009323640842922032)\n",
            "ShapiroResult(statistic=0.9461305141448975, pvalue=0.028103580698370934)\n",
            "ShapiroResult(statistic=0.868057906627655, pvalue=0.0010476212482899427)\n",
            "One-Way ANOVA: No significant difference between groups (p = 0.8394).\n",
            "Shapiro-Wilk Test p-values:\n",
            "ShapiroResult(statistic=0.9556623697280884, pvalue=0.002751152263954282)\n",
            "ShapiroResult(statistic=0.9398333430290222, pvalue=0.015991251915693283)\n",
            "ShapiroResult(statistic=0.8520989418029785, pvalue=0.0004608012386597693)\n",
            "One-Way ANOVA: No significant difference between groups (p = 0.5115).\n",
            "Shapiro-Wilk Test p-values:\n",
            "ShapiroResult(statistic=0.9631524682044983, pvalue=0.008973478339612484)\n",
            "ShapiroResult(statistic=0.9130010604858398, pvalue=0.0016991683514788747)\n",
            "ShapiroResult(statistic=0.9037922620773315, pvalue=0.007745697163045406)\n",
            "One-Way ANOVA: No significant difference between groups (p = 0.9739).\n",
            "Shapiro-Wilk Test p-values:\n",
            "ShapiroResult(statistic=0.9454569220542908, pvalue=0.0006096797296777368)\n",
            "ShapiroResult(statistic=0.893500030040741, pvalue=0.00039043923607096076)\n",
            "ShapiroResult(statistic=0.8854959607124329, pvalue=0.0027003169525414705)\n",
            "One-Way ANOVA: No significant difference between groups (p = 0.4896).\n",
            "Shapiro-Wilk Test p-values:\n",
            "ShapiroResult(statistic=0.9794340133666992, pvalue=0.14080633223056793)\n",
            "ShapiroResult(statistic=0.9334465265274048, pvalue=0.009155496954917908)\n",
            "ShapiroResult(statistic=0.9369186162948608, pvalue=0.0612407848238945)\n",
            "One-Way ANOVA: No significant difference between groups (p = 0.5755).\n",
            "Shapiro-Wilk Test p-values:\n",
            "ShapiroResult(statistic=0.9563995003700256, pvalue=0.003081619506701827)\n",
            "ShapiroResult(statistic=0.9041731953620911, pvalue=0.0008598077693022788)\n",
            "ShapiroResult(statistic=0.9032027125358582, pvalue=0.007479608990252018)\n",
            "One-Way ANOVA: No significant difference between groups (p = 0.9962).\n",
            "Shapiro-Wilk Test p-values:\n",
            "ShapiroResult(statistic=0.9819959402084351, pvalue=0.21698954701423645)\n",
            "ShapiroResult(statistic=0.9353564381599426, pvalue=0.010800222866237164)\n",
            "ShapiroResult(statistic=0.9428623914718628, pvalue=0.09028607606887817)\n",
            "One-Way ANOVA: No significant difference between groups (p = 0.5805).\n",
            "Shapiro-Wilk Test p-values:\n",
            "ShapiroResult(statistic=0.23312771320343018, pvalue=5.344352222276597e-20)\n",
            "ShapiroResult(statistic=0.12989932298660278, pvalue=2.4743736095847067e-15)\n",
            "ShapiroResult(statistic=0.7096872329711914, pvalue=1.2174714356660843e-06)\n",
            "One-Way ANOVA: No significant difference between groups (p = 0.3104).\n",
            "Shapiro-Wilk Test p-values:\n",
            "ShapiroResult(statistic=0.9658781290054321, pvalue=0.014020705595612526)\n",
            "ShapiroResult(statistic=0.9358800649642944, pvalue=0.011303293518722057)\n",
            "ShapiroResult(statistic=0.8580129742622375, pvalue=0.0006217497284524143)\n",
            "One-Way ANOVA: No significant difference between groups (p = 0.7057).\n",
            "Shapiro-Wilk Test p-values:\n",
            "ShapiroResult(statistic=0.962245523929596, pvalue=0.007749609183520079)\n",
            "ShapiroResult(statistic=0.9409017562866211, pvalue=0.017579948529601097)\n",
            "ShapiroResult(statistic=0.8608229160308838, pvalue=0.0007182530825957656)\n",
            "One-Way ANOVA: No significant difference between groups (p = 0.9901).\n",
            "Shapiro-Wilk Test p-values:\n",
            "ShapiroResult(statistic=0.9601075053215027, pvalue=0.00550546171143651)\n",
            "ShapiroResult(statistic=0.9556684494018555, pvalue=0.0674772560596466)\n",
            "ShapiroResult(statistic=0.8507351875305176, pvalue=0.00043037760769948363)\n",
            "One-Way ANOVA: No significant difference between groups (p = 0.9328).\n",
            "Shapiro-Wilk Test p-values:\n",
            "ShapiroResult(statistic=0.9503411650657654, pvalue=0.001235857605934143)\n",
            "ShapiroResult(statistic=0.9097051620483398, pvalue=0.001313518499955535)\n",
            "ShapiroResult(statistic=0.8638400435447693, pvalue=0.0008398077334277332)\n",
            "One-Way ANOVA: No significant difference between groups (p = 0.8049).\n",
            "Shapiro-Wilk Test p-values:\n",
            "ShapiroResult(statistic=0.9612544178962708, pvalue=0.006609383504837751)\n",
            "ShapiroResult(statistic=0.8944988250732422, pvalue=0.000419740128563717)\n",
            "ShapiroResult(statistic=0.9068460464477539, pvalue=0.009293328039348125)\n",
            "One-Way ANOVA: No significant difference between groups (p = 0.9837).\n",
            "Shapiro-Wilk Test p-values:\n",
            "ShapiroResult(statistic=0.9666830897331238, pvalue=0.016020605340600014)\n",
            "ShapiroResult(statistic=0.8887801170349121, pvalue=0.00027848960598930717)\n",
            "ShapiroResult(statistic=0.9131211042404175, pvalue=0.013589323498308659)\n",
            "One-Way ANOVA: No significant difference between groups (p = 0.9838).\n",
            "Shapiro-Wilk Test p-values:\n",
            "ShapiroResult(statistic=0.9812602400779724, pvalue=0.1918782740831375)\n",
            "ShapiroResult(statistic=0.9206374287605286, pvalue=0.0031308659818023443)\n",
            "ShapiroResult(statistic=0.9435479640960693, pvalue=0.09443379193544388)\n",
            "One-Way ANOVA: No significant difference between groups (p = 0.7352).\n",
            "Shapiro-Wilk Test p-values:\n",
            "ShapiroResult(statistic=0.9741646647453308, pvalue=0.05690430477261543)\n",
            "ShapiroResult(statistic=0.9444863200187683, pvalue=0.02422550693154335)\n",
            "ShapiroResult(statistic=0.949052631855011, pvalue=0.13546094298362732)\n",
            "One-Way ANOVA: No significant difference between groups (p = 0.8948).\n",
            "Shapiro-Wilk Test p-values:\n",
            "ShapiroResult(statistic=0.9721527099609375, pvalue=0.0403016023337841)\n",
            "ShapiroResult(statistic=0.923605740070343, pvalue=0.003993093501776457)\n",
            "ShapiroResult(statistic=0.973760724067688, pvalue=0.608936607837677)\n",
            "One-Way ANOVA: No significant difference between groups (p = 0.247).\n",
            "Shapiro-Wilk Test p-values:\n",
            "ShapiroResult(statistic=0.23327350616455078, pvalue=5.365046277874628e-20)\n",
            "ShapiroResult(statistic=0.13015347719192505, pvalue=2.4866286940238187e-15)\n",
            "ShapiroResult(statistic=0.7131141424179077, pvalue=1.3737078461417696e-06)\n",
            "One-Way ANOVA: No significant difference between groups (p = 0.3107).\n",
            "Shapiro-Wilk Test p-values:\n",
            "ShapiroResult(statistic=0.9675682187080383, pvalue=0.01856493577361107)\n",
            "ShapiroResult(statistic=0.9355546832084656, pvalue=0.010987882502377033)\n",
            "ShapiroResult(statistic=0.8761515021324158, pvalue=0.0016149230068549514)\n",
            "One-Way ANOVA: No significant difference between groups (p = 0.6466).\n",
            "Shapiro-Wilk Test p-values:\n",
            "ShapiroResult(statistic=0.9573894143104553, pvalue=0.003592299995943904)\n",
            "ShapiroResult(statistic=0.956423282623291, pvalue=0.072377510368824)\n",
            "ShapiroResult(statistic=0.8534412384033203, pvalue=0.0004929857677780092)\n",
            "One-Way ANOVA: No significant difference between groups (p = 0.8658).\n",
            "Shapiro-Wilk Test p-values:\n",
            "ShapiroResult(statistic=0.9686442613601685, pvalue=0.022231901064515114)\n",
            "ShapiroResult(statistic=0.9475626945495605, pvalue=0.0320056714117527)\n",
            "ShapiroResult(statistic=0.8821334838867188, pvalue=0.002240195404738188)\n",
            "One-Way ANOVA: No significant difference between groups (p = 0.9587).\n",
            "Shapiro-Wilk Test p-values:\n",
            "ShapiroResult(statistic=0.9720069766044617, pvalue=0.03931085392832756)\n",
            "ShapiroResult(statistic=0.9559293985366821, pvalue=0.06913165003061295)\n",
            "ShapiroResult(statistic=0.9551879167556763, pvalue=0.20198222994804382)\n",
            "One-Way ANOVA: No significant difference between groups (p = 0.6881).\n",
            "Shapiro-Wilk Test p-values:\n",
            "ShapiroResult(statistic=0.986633837223053, pvalue=0.45086678862571716)\n",
            "ShapiroResult(statistic=0.975428581237793, pvalue=0.4054025709629059)\n",
            "ShapiroResult(statistic=0.9507460594177246, pvalue=0.15132494270801544)\n",
            "One-Way ANOVA: No significant difference between groups (p = 0.0702).\n",
            "Shapiro-Wilk Test p-values:\n",
            "ShapiroResult(statistic=0.9793862104415894, pvalue=0.1396620124578476)\n",
            "ShapiroResult(statistic=0.9592692255973816, pvalue=0.09431827813386917)\n",
            "ShapiroResult(statistic=0.9669288992881775, pvalue=0.4192395508289337)\n",
            "One-Way ANOVA: No significant difference between groups (p = 0.0782).\n",
            "Shapiro-Wilk Test p-values:\n",
            "ShapiroResult(statistic=0.9803982377052307, pvalue=0.1659035086631775)\n",
            "ShapiroResult(statistic=0.9285826683044434, pvalue=0.006048016250133514)\n",
            "ShapiroResult(statistic=0.9837849736213684, pvalue=0.8989800810813904)\n",
            "One-Way ANOVA: No significant difference between groups (p = 0.053).\n",
            "Shapiro-Wilk Test p-values:\n",
            "ShapiroResult(statistic=0.981630265712738, pvalue=0.20415206253528595)\n",
            "ShapiroResult(statistic=0.9335271716117859, pvalue=0.009219365194439888)\n",
            "ShapiroResult(statistic=0.9659233093261719, pvalue=0.39511045813560486)\n",
            "One-Way ANOVA: No significant difference between groups (p = 0.4727).\n",
            "Shapiro-Wilk Test p-values:\n",
            "ShapiroResult(statistic=0.9707174301147461, pvalue=0.03155837580561638)\n",
            "ShapiroResult(statistic=0.9095441699028015, pvalue=0.0012972295517101884)\n",
            "ShapiroResult(statistic=0.9744229316711426, pvalue=0.6291543245315552)\n",
            "One-Way ANOVA: No significant difference between groups (p = 0.2924).\n",
            "Shapiro-Wilk Test p-values:\n",
            "ShapiroResult(statistic=0.23368805646896362, pvalue=5.424324754756563e-20)\n",
            "ShapiroResult(statistic=0.13064229488372803, pvalue=2.510385638853697e-15)\n",
            "ShapiroResult(statistic=0.6463280320167542, pvalue=1.5009646858743508e-07)\n",
            "One-Way ANOVA: No significant difference between groups (p = 0.3104).\n",
            "Shapiro-Wilk Test p-values:\n",
            "ShapiroResult(statistic=0.9611692428588867, pvalue=0.006519937422126532)\n",
            "ShapiroResult(statistic=0.9250612854957581, pvalue=0.0045043108984827995)\n",
            "ShapiroResult(statistic=0.8354445099830627, pvalue=0.00020393167505972087)\n",
            "One-Way ANOVA: No significant difference between groups (p = 0.9854).\n"
          ]
        }
      ]
    },
    {
      "cell_type": "markdown",
      "source": [
        "# stare\n"
      ],
      "metadata": {
        "id": "TNn4EvuZUu3H"
      }
    },
    {
      "cell_type": "code",
      "source": [
        "Group1"
      ],
      "metadata": {
        "colab": {
          "base_uri": "https://localhost:8080/"
        },
        "id": "Rt8kRXxlcqGs",
        "outputId": "67ae38ff-c964-4702-8319-8bdbf47eddbd"
      },
      "execution_count": null,
      "outputs": [
        {
          "output_type": "execute_result",
          "data": {
            "text/plain": [
              "array([0.13669, 0.12651, 0.13707, 0.14743, 0.18097, 0.18816, 0.18537,\n",
              "       0.18346, 0.19859, 0.1737 , 0.16862, 0.14928, 0.15958, 0.15301,\n",
              "       0.15672, 0.1792 , 0.17573, 0.12729, 0.15471, 0.13332, 0.15784,\n",
              "       0.16478, 0.17159, 0.14812, 0.22826, 0.17382, 0.18354, 0.16276,\n",
              "       0.21613, 0.15287, 0.18633, 0.17539, 0.16967, 0.19938, 0.17812,\n",
              "       0.17123, 0.15651, 0.18983, 0.1513 , 0.1907 , 0.17118, 0.15391,\n",
              "       0.13869, 0.15795, 0.17101, 0.18056, 0.1738 , 0.14987, 0.17372,\n",
              "       0.158  , 0.20602, 0.17195, 0.17201, 0.18907, 0.18556, 0.2171 ,\n",
              "       0.19078, 0.22615, 0.2242 , 0.19917, 0.18847, 0.20028, 0.12888,\n",
              "       0.22342, 0.17394, 0.18292, 0.15906, 0.16196, 0.17338, 0.16084,\n",
              "       0.20685, 0.15574, 0.21073, 0.2038 , 0.16208, 0.20354, 0.13658,\n",
              "       0.15107, 0.16301, 0.13222, 0.1907 , 0.22743, 0.16178, 0.15688,\n",
              "       0.16224, 0.2006 , 0.20205, 0.22938, 0.18433, 0.1782 , 0.18521,\n",
              "       0.20715, 0.16389, 0.16212, 0.18918])"
            ]
          },
          "metadata": {},
          "execution_count": 41
        }
      ]
    },
    {
      "cell_type": "code",
      "source": [
        "shapiro(Group1)"
      ],
      "metadata": {
        "colab": {
          "base_uri": "https://localhost:8080/"
        },
        "id": "TjjdKFQrcxz1",
        "outputId": "11965baf-9b1f-4f70-cfd6-503a9c2b5e0e"
      },
      "execution_count": null,
      "outputs": [
        {
          "output_type": "execute_result",
          "data": {
            "text/plain": [
              "ShapiroResult(statistic=0.9795936346054077, pvalue=0.1446930170059204)"
            ]
          },
          "metadata": {},
          "execution_count": 42
        }
      ]
    },
    {
      "cell_type": "code",
      "source": [
        "pvals = np.zeros(CECHY.shape[1] - 1)\n",
        "\n",
        "for i in range(1, CECHY.shape[1]):\n",
        "    print(\"\\n\")\n",
        "    print(EPISLEB_cechy.columns[i - 1])\n",
        "    Group1 = ak1[:, i]\n",
        "    Group2 = ak2[:, i]\n",
        "    Group3 = ak3[:, i]\n",
        "\n",
        "    pvals[i - 1] = stats_anova(Group1, Group2, Group3)\n",
        "\n",
        "kol_num = 1\n",
        "\n",
        "FT = np.zeros((CECHY.shape[0], sum(pvals < 0.05)))\n",
        "wyniki_ex = {\"VariableNames\": [], \"pvals\": []}\n",
        "\n",
        "for i in range(CECHY.shape[1] - 1):\n",
        "    if pvals[i] < 0.05:\n",
        "        print(EPISLEB_cechy.columns[i])\n",
        "        print(pvals[i])\n",
        "        FT[:, kol_num - 1] = CECHY[:, i]\n",
        "        wyniki_ex[\"VariableNames\"].append(EPISLEB_cechy.columns[i])\n",
        "        wyniki_ex[\"pvals\"].append(pvals[i])\n",
        "        kol_num += 1"
      ],
      "metadata": {
        "id": "hy57x4JvbA9x"
      },
      "execution_count": null,
      "outputs": []
    },
    {
      "cell_type": "code",
      "source": [
        "Group3.shape"
      ],
      "metadata": {
        "colab": {
          "base_uri": "https://localhost:8080/"
        },
        "id": "pxTFUwc8d01y",
        "outputId": "bad5d222-6222-466c-bcd5-bb12c7a9a314"
      },
      "execution_count": null,
      "outputs": [
        {
          "output_type": "execute_result",
          "data": {
            "text/plain": [
              "(1, 109)"
            ]
          },
          "metadata": {},
          "execution_count": 35
        }
      ]
    }
  ]
}